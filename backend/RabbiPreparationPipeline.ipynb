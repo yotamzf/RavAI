{
 "cells": [
  {
   "cell_type": "markdown",
   "id": "eab0fa88",
   "metadata": {
    "tags": [
     "hide_input"
    ]
   },
   "source": [
    "\n",
    "<style>\n",
    "/* Better spacing between cells */\n",
    "div.text_cell_render { line-height: 1.55; font-size: 16px; }\n",
    "div.input_area        { border: 1px solid #ddd; border-radius: 6px; }\n",
    "div.output_area       { background: #f9f9f9; border-radius: 6px; }\n",
    "h1, h2, h3            { font-family: \"Segoe UI\", sans-serif; margin-top: 1.2em; }\n",
    ".callout              { padding:1em 1.2em; border-left:5px solid #2e86de;\n",
    "                        background:#e9f3ff; border-radius:4px; }\n",
    "</style>\n"
   ]
  },
  {
   "cell_type": "markdown",
   "id": "897efc82",
   "metadata": {},
   "source": [
    "# 📚 Rabbi‑Corpus Preparation (schema‑aware)\n",
    "\n",
    "*Prepare <code>all_rabbi_clean.jsonl</code> from <code>merged.json</code> files.*\n",
    "\n",
    "**Pipeline**\n",
    "\n",
    "1. Load imports & environment paths  \n",
    "2. Read the schema (`schema_summary.csv`) → build book metadata  \n",
    "3. Define helpers (HTML stripping, Hebrew gematria, JSON leaf walk)  \n",
    "4. Iterate each JSON → emit one clean JSON‑Lines record per leaf\n"
   ]
  },
  {
   "cell_type": "markdown",
   "id": "e72cf3c8",
   "metadata": {},
   "source": [
    "\n",
    "# 1. imports"
   ]
  },
  {
   "cell_type": "code",
   "execution_count": 1,
   "id": "ff2812bf",
   "metadata": {},
   "outputs": [],
   "source": [
    "import json, re, html, glob, pathlib, os\n",
    "from typing import List, Dict, Any, Tuple\n",
    "from bs4 import BeautifulSoup\n",
    "import pandas as pd\n",
    "from tqdm import tqdm"
   ]
  },
  {
   "cell_type": "markdown",
   "id": "047d2593",
   "metadata": {},
   "source": [
    "# 2. Paths & files"
   ]
  },
  {
   "cell_type": "code",
   "execution_count": 2,
   "id": "83ebcde0",
   "metadata": {},
   "outputs": [],
   "source": [
    "ROOT_CLTK   = r\"C:/Users/yotam/OneDrive/שולחן העבודה/PROJECTS/ChavrutAI/Sefaria-Export-master/cltk-full\"\n",
    "SCHEMA_CSV  = \"schema_summary.csv\"\n",
    "\n",
    "SELECTED_RABBI = \"Rashi\"\n",
    "JSONL_OUT   = f\"{SELECTED_RABBI}.jsonl\""
   ]
  },
  {
   "cell_type": "markdown",
   "id": "808dd642",
   "metadata": {},
   "source": [
    "<div class=\"callout\">\n",
    "<b>Why keep them here?</b>  \n",
    "Easy to tweak when you move the notebook to another machine.\n",
    "</div>"
   ]
  },
  {
   "cell_type": "markdown",
   "id": "73dc5f6b",
   "metadata": {},
   "source": [
    "# 3.  Locate source JSONs"
   ]
  },
  {
   "cell_type": "code",
   "execution_count": 3,
   "id": "893b225a",
   "metadata": {},
   "outputs": [
    {
     "name": "stdout",
     "output_type": "stream",
     "text": [
      "✓ 77 merged.json files loaded\n"
     ]
    }
   ],
   "source": [
    "pat = os.path.join(ROOT_CLTK, \"**\", SELECTED_RABBI , \"**\", \"Hebrew\", \"**\", \"merged.json\")\n",
    "json_paths = glob.glob(pat, recursive=True)\n",
    "\n",
    "print(\"✓\", len(json_paths), \"merged.json files loaded\")"
   ]
  },
  {
   "cell_type": "code",
   "execution_count": 4,
   "id": "6732183d",
   "metadata": {},
   "outputs": [
    {
     "name": "stdout",
     "output_type": "stream",
     "text": [
      "✓ 358 merged.json files from core corpora loaded\n"
     ]
    }
   ],
   "source": [
    "# ------------------------------------------------------------------\n",
    "# 2.  נתיבים כלליים נוספים\n",
    "# ------------------------------------------------------------------\n",
    "EXTRA_DIRS = [\n",
    "    (\"Tanakh\",  [\"Torah\", \"Prophets\", \"Writings\"]),\n",
    "    (\"Talmud\",  [os.path.join(\"Bavli\", f\"Seder {s}\")\n",
    "                 for s in [\"Kodashim\", \"Moed\", \"Nashim\",\n",
    "                           \"Nezikin\", \"Tahorot\", \"Zeraim\"]]),\n",
    "    (\"Mishnah\", [f\"Seder {s}\"\n",
    "                 for s in [\"Kodashim\", \"Moed\", \"Nashim\",\n",
    "                           \"Nezikin\", \"Tahorot\", \"Zeraim\"]]),\n",
    "    (\"Midrash\", [\"Aggadah\", \"Halakhah\"]),\n",
    "]\n",
    "\n",
    "extra_paths = []\n",
    "for root, branches in EXTRA_DIRS:\n",
    "    for br in branches:\n",
    "        base = os.path.join(ROOT_CLTK, root, br)\n",
    "        pattern = os.path.join(base, \"**\", \"merged.json\")\n",
    "        for fp in glob.glob(pattern, recursive=True):\n",
    "            # סינון: אין Commentary ואין \" on \"\n",
    "            if \"Commentary\" in fp or \" on \" in fp:\n",
    "                continue\n",
    "            extra_paths.append(fp)\n",
    "\n",
    "print(\"✓\", len(extra_paths), \"merged.json files from core corpora loaded\")"
   ]
  },
  {
   "cell_type": "code",
   "execution_count": 5,
   "id": "004c1ded",
   "metadata": {},
   "outputs": [
    {
     "name": "stdout",
     "output_type": "stream",
     "text": [
      "✓ 435 merged.json files total after merge\n"
     ]
    }
   ],
   "source": [
    "# ------------------------------------------------------------------\n",
    "# 3.  מיזוג + הסרת כפילויות\n",
    "#     (dict.fromkeys שומר על סדר ומסלק כפולים)\n",
    "# ------------------------------------------------------------------\n",
    "json_paths = list(dict.fromkeys(json_paths + extra_paths))\n",
    "\n",
    "print(\"✓\", len(json_paths), \"merged.json files total after merge\")"
   ]
  },
  {
   "cell_type": "markdown",
   "id": "757757d8",
   "metadata": {},
   "source": [
    "# 4. Read schema ➜ build book metadata"
   ]
  },
  {
   "cell_type": "code",
   "execution_count": 6,
   "id": "3d258e8e",
   "metadata": {},
   "outputs": [],
   "source": [
    "schema = pd.read_csv(SCHEMA_CSV)\n",
    "\n",
    "meta: Dict[str, Dict[str, Any]] = {}\n",
    "for book, grp in schema.groupby(\"book_en\"):\n",
    "    grp = grp.sort_values(\"level\")\n",
    "\n",
    "    labels_he = grp[\"section_he\"].tolist()       # כמו קודם\n",
    "    labels_en = grp[\"section_en\"].fillna(\"\").tolist()\n",
    "\n",
    "    # 🔑 מילון – lower‑case כדי לא להיות תלוי רישיות/רווחים\n",
    "    en2he = {str(en).strip().lower(): he\n",
    "             for en, he in zip(labels_en, labels_he)\n",
    "             if en}                              # מתעלמים מערכי EN ריקים\n",
    "\n",
    "    meta[book] = {\n",
    "        \"book_he\"   : grp.iloc[0][\"book_he\"],\n",
    "        \"labels_he\" : labels_he,\n",
    "        \"en2he\"     : en2he,                     # ← חדש\n",
    "    }"
   ]
  },
  {
   "cell_type": "code",
   "execution_count": 7,
   "id": "73fa30c7",
   "metadata": {},
   "outputs": [
    {
     "data": {
      "text/html": [
       "<div>\n",
       "<style scoped>\n",
       "    .dataframe tbody tr th:only-of-type {\n",
       "        vertical-align: middle;\n",
       "    }\n",
       "\n",
       "    .dataframe tbody tr th {\n",
       "        vertical-align: top;\n",
       "    }\n",
       "\n",
       "    .dataframe thead th {\n",
       "        text-align: right;\n",
       "    }\n",
       "</style>\n",
       "<table border=\"1\" class=\"dataframe\">\n",
       "  <thead>\n",
       "    <tr style=\"text-align: right;\">\n",
       "      <th></th>\n",
       "      <th>book_en</th>\n",
       "      <th>book_he</th>\n",
       "      <th>domain</th>\n",
       "      <th>subpath</th>\n",
       "      <th>level</th>\n",
       "      <th>section_en</th>\n",
       "      <th>section_he</th>\n",
       "      <th>addressType</th>\n",
       "      <th>nodeType</th>\n",
       "      <th>file</th>\n",
       "    </tr>\n",
       "  </thead>\n",
       "  <tbody>\n",
       "    <tr>\n",
       "      <th>16424</th>\n",
       "      <td>Iggerot HaRambam</td>\n",
       "      <td>איגרות הרמב\"ם</td>\n",
       "      <td>שו\"ת</td>\n",
       "      <td>חידושי הרמב\"ם</td>\n",
       "      <td>1</td>\n",
       "      <td>Khiddushei HaRambam</td>\n",
       "      <td>חידושי הרמב\"ם</td>\n",
       "      <td>Integer</td>\n",
       "      <td>JaggedArrayNode</td>\n",
       "      <td>Iggerot_HaRambam.json</td>\n",
       "    </tr>\n",
       "    <tr>\n",
       "      <th>16425</th>\n",
       "      <td>Iggerot HaRambam</td>\n",
       "      <td>איגרות הרמב\"ם</td>\n",
       "      <td>שו\"ת</td>\n",
       "      <td>חידושי הרמב\"ם</td>\n",
       "      <td>2</td>\n",
       "      <td>Paragraph</td>\n",
       "      <td>פסקה</td>\n",
       "      <td>Integer</td>\n",
       "      <td>JaggedArrayNode</td>\n",
       "      <td>Iggerot_HaRambam.json</td>\n",
       "    </tr>\n",
       "    <tr>\n",
       "      <th>16426</th>\n",
       "      <td>Iggerot HaRambam</td>\n",
       "      <td>איגרות הרמב\"ם</td>\n",
       "      <td>שו\"ת</td>\n",
       "      <td>איגרת תימן</td>\n",
       "      <td>1</td>\n",
       "      <td>Iggeret Teiman</td>\n",
       "      <td>איגרת תימן</td>\n",
       "      <td>Integer</td>\n",
       "      <td>JaggedArrayNode</td>\n",
       "      <td>Iggerot_HaRambam.json</td>\n",
       "    </tr>\n",
       "    <tr>\n",
       "      <th>16427</th>\n",
       "      <td>Iggerot HaRambam</td>\n",
       "      <td>איגרות הרמב\"ם</td>\n",
       "      <td>שו\"ת</td>\n",
       "      <td>איגרת תימן</td>\n",
       "      <td>2</td>\n",
       "      <td>Paragraph</td>\n",
       "      <td>פסקה</td>\n",
       "      <td>Integer</td>\n",
       "      <td>JaggedArrayNode</td>\n",
       "      <td>Iggerot_HaRambam.json</td>\n",
       "    </tr>\n",
       "    <tr>\n",
       "      <th>16428</th>\n",
       "      <td>Iggerot HaRambam</td>\n",
       "      <td>איגרות הרמב\"ם</td>\n",
       "      <td>שו\"ת</td>\n",
       "      <td>מאמר תחיית המתים</td>\n",
       "      <td>1</td>\n",
       "      <td>Maamar Tekhiyat HaMetim</td>\n",
       "      <td>מאמר תחיית המתים</td>\n",
       "      <td>Integer</td>\n",
       "      <td>JaggedArrayNode</td>\n",
       "      <td>Iggerot_HaRambam.json</td>\n",
       "    </tr>\n",
       "  </tbody>\n",
       "</table>\n",
       "</div>"
      ],
      "text/plain": [
       "                book_en        book_he domain           subpath  level  \\\n",
       "16424  Iggerot HaRambam  איגרות הרמב\"ם   שו\"ת     חידושי הרמב\"ם      1   \n",
       "16425  Iggerot HaRambam  איגרות הרמב\"ם   שו\"ת     חידושי הרמב\"ם      2   \n",
       "16426  Iggerot HaRambam  איגרות הרמב\"ם   שו\"ת        איגרת תימן      1   \n",
       "16427  Iggerot HaRambam  איגרות הרמב\"ם   שו\"ת        איגרת תימן      2   \n",
       "16428  Iggerot HaRambam  איגרות הרמב\"ם   שו\"ת  מאמר תחיית המתים      1   \n",
       "\n",
       "                    section_en        section_he addressType         nodeType  \\\n",
       "16424      Khiddushei HaRambam     חידושי הרמב\"ם     Integer  JaggedArrayNode   \n",
       "16425                Paragraph              פסקה     Integer  JaggedArrayNode   \n",
       "16426           Iggeret Teiman        איגרת תימן     Integer  JaggedArrayNode   \n",
       "16427                Paragraph              פסקה     Integer  JaggedArrayNode   \n",
       "16428  Maamar Tekhiyat HaMetim  מאמר תחיית המתים     Integer  JaggedArrayNode   \n",
       "\n",
       "                        file  \n",
       "16424  Iggerot_HaRambam.json  \n",
       "16425  Iggerot_HaRambam.json  \n",
       "16426  Iggerot_HaRambam.json  \n",
       "16427  Iggerot_HaRambam.json  \n",
       "16428  Iggerot_HaRambam.json  "
      ]
     },
     "execution_count": 7,
     "metadata": {},
     "output_type": "execute_result"
    }
   ],
   "source": [
    "schema[schema.book_en == \"Iggerot HaRambam\"].head()"
   ]
  },
  {
   "cell_type": "code",
   "execution_count": 8,
   "id": "c9b68217",
   "metadata": {},
   "outputs": [
    {
     "data": {
      "text/html": [
       "<div>\n",
       "<style scoped>\n",
       "    .dataframe tbody tr th:only-of-type {\n",
       "        vertical-align: middle;\n",
       "    }\n",
       "\n",
       "    .dataframe tbody tr th {\n",
       "        vertical-align: top;\n",
       "    }\n",
       "\n",
       "    .dataframe thead th {\n",
       "        text-align: right;\n",
       "    }\n",
       "</style>\n",
       "<table border=\"1\" class=\"dataframe\">\n",
       "  <thead>\n",
       "    <tr style=\"text-align: right;\">\n",
       "      <th></th>\n",
       "      <th>book_en</th>\n",
       "      <th>book_he</th>\n",
       "      <th>domain</th>\n",
       "      <th>subpath</th>\n",
       "      <th>level</th>\n",
       "      <th>section_en</th>\n",
       "      <th>section_he</th>\n",
       "      <th>addressType</th>\n",
       "      <th>nodeType</th>\n",
       "      <th>file</th>\n",
       "    </tr>\n",
       "  </thead>\n",
       "  <tbody>\n",
       "    <tr>\n",
       "      <th>16426</th>\n",
       "      <td>Iggerot HaRambam</td>\n",
       "      <td>איגרות הרמב\"ם</td>\n",
       "      <td>שו\"ת</td>\n",
       "      <td>איגרת תימן</td>\n",
       "      <td>1</td>\n",
       "      <td>Iggeret Teiman</td>\n",
       "      <td>איגרת תימן</td>\n",
       "      <td>Integer</td>\n",
       "      <td>JaggedArrayNode</td>\n",
       "      <td>Iggerot_HaRambam.json</td>\n",
       "    </tr>\n",
       "    <tr>\n",
       "      <th>16427</th>\n",
       "      <td>Iggerot HaRambam</td>\n",
       "      <td>איגרות הרמב\"ם</td>\n",
       "      <td>שו\"ת</td>\n",
       "      <td>איגרת תימן</td>\n",
       "      <td>2</td>\n",
       "      <td>Paragraph</td>\n",
       "      <td>פסקה</td>\n",
       "      <td>Integer</td>\n",
       "      <td>JaggedArrayNode</td>\n",
       "      <td>Iggerot_HaRambam.json</td>\n",
       "    </tr>\n",
       "  </tbody>\n",
       "</table>\n",
       "</div>"
      ],
      "text/plain": [
       "                book_en        book_he domain     subpath  level  \\\n",
       "16426  Iggerot HaRambam  איגרות הרמב\"ם   שו\"ת  איגרת תימן      1   \n",
       "16427  Iggerot HaRambam  איגרות הרמב\"ם   שו\"ת  איגרת תימן      2   \n",
       "\n",
       "           section_en  section_he addressType         nodeType  \\\n",
       "16426  Iggeret Teiman  איגרת תימן     Integer  JaggedArrayNode   \n",
       "16427       Paragraph        פסקה     Integer  JaggedArrayNode   \n",
       "\n",
       "                        file  \n",
       "16426  Iggerot_HaRambam.json  \n",
       "16427  Iggerot_HaRambam.json  "
      ]
     },
     "execution_count": 8,
     "metadata": {},
     "output_type": "execute_result"
    }
   ],
   "source": [
    "schema[schema.subpath==\"איגרת תימן\"]"
   ]
  },
  {
   "cell_type": "markdown",
   "id": "9544c3dc",
   "metadata": {},
   "source": [
    "# 5.  Helper functions 🔧"
   ]
  },
  {
   "cell_type": "code",
   "execution_count": 9,
   "id": "c6f052bd",
   "metadata": {},
   "outputs": [],
   "source": [
    "def strip_html(t: str) -> str:\n",
    "    return re.sub(r\"\\s+\", \" \", html.unescape(\n",
    "        BeautifulSoup(t, \"html.parser\").get_text(\" \"))).strip()\n",
    "\n",
    "\n",
    "UNITS  = [\"\",\"א\",\"ב\",\"ג\",\"ד\",\"ה\",\"ו\",\"ז\",\"ח\",\"ט\"]\n",
    "TENS   = [\"\",\"י\",\"כ\",\"ל\",\"מ\",\"נ\",\"ס\",\"ע\",\"פ\",\"צ\"]\n",
    "HUNDS  = [\"\",\"ק\",\"ר\",\"ש\",\"ת\",\"תק\",\"תר\",\"תש\",\"תת\",\"תתק\"]\n",
    "SPECIAL = {15:\"ט״ו\", 16:\"ט״ז\"}\n",
    "\n",
    "def heb_num(n:int)->str:\n",
    "    \"\"\"\n",
    "    Convert 1‑399 to Hebrew gematria letters.\n",
    "    Handles ט״ו/ט״ז special case, hundreds, tens, units.\n",
    "    \"\"\"\n",
    "    if n in SPECIAL:\n",
    "        return SPECIAL[n]\n",
    "    h, rem = divmod(n, 100)\n",
    "    t, u   = divmod(rem, 10)\n",
    "    txt = \"\"\n",
    "    if h: txt += HUNDS[h]\n",
    "    if t: txt += TENS[t]\n",
    "    if u: txt += UNITS[u]\n",
    "    # גרש/גרשיים\n",
    "    return txt[:-1] + \"״\" + txt[-1] if len(txt) > 1 else txt + \"׳\"\n",
    "\n",
    "\n",
    "def json_leaves(node, path, out):\n",
    "    \"\"\"\n",
    "    DFS שמגיע לכל Leaf:\n",
    "      • dict  – עוברים על כל המפתחות (לא רק ספרות)\n",
    "      • list  – לפי אינדקס\n",
    "      • אחר   – מצרפים (path, text)\n",
    "    path יכול להכיל ints (0,1,…) או str ('0_Iggeret…', 'Intro').\n",
    "    \"\"\"\n",
    "    if isinstance(node, dict):\n",
    "        for k, v in node.items():\n",
    "            # ▸ נבנה path חדש\n",
    "            if re.match(r\"^\\d+$\", k):           # \"7\"\n",
    "                new_path = path + [int(k)]      # נשמר כ‑int\n",
    "            else:\n",
    "                new_path = path + [k]           # כל השאר כ‑str\n",
    "            json_leaves(v, new_path, out)\n",
    "\n",
    "    elif isinstance(node, list):\n",
    "        for i, item in enumerate(node):         # 0‑based\n",
    "            json_leaves(item, path + [i], out)\n",
    "\n",
    "    else:\n",
    "        out.append((path, str(node)))"
   ]
  },
  {
   "cell_type": "markdown",
   "id": "a71523aa",
   "metadata": {},
   "source": [
    "**Helpers included**\n",
    "\n",
    "* `strip_html` – remove tags & entities  \n",
    "* `heb_num` – robust 1‑399 → גימטריה  \n",
    "* `json_leaves` – depth‑first walk returning all leaf texts"
   ]
  },
  {
   "cell_type": "markdown",
   "id": "510bfe14",
   "metadata": {},
   "source": [
    "# 6. Main loop"
   ]
  },
  {
   "cell_type": "code",
   "execution_count": 10,
   "id": "521b8a3c",
   "metadata": {},
   "outputs": [
    {
     "name": "stderr",
     "output_type": "stream",
     "text": [
      "\r",
      "processing:   0%|                                                                              | 0/435 [00:00<?, ?it/s]"
     ]
    },
    {
     "name": "stdout",
     "output_type": "stream",
     "text": [
      "Processing רש\"י על בראשית רבה\n"
     ]
    },
    {
     "name": "stderr",
     "output_type": "stream",
     "text": [
      "processing:   0%|▎                                                                     | 2/435 [00:01<03:41,  1.95it/s]"
     ]
    },
    {
     "name": "stdout",
     "output_type": "stream",
     "text": [
      "Processing רש\"י על משנה אבות\n",
      "Processing רש\"י על ערכין\n"
     ]
    },
    {
     "name": "stderr",
     "output_type": "stream",
     "text": [
      "\r",
      "processing:   1%|▍                                                                     | 3/435 [00:01<03:07,  2.31it/s]"
     ]
    },
    {
     "name": "stdout",
     "output_type": "stream",
     "text": [
      "Processing רש\"י על בכורות\n"
     ]
    },
    {
     "name": "stderr",
     "output_type": "stream",
     "text": [
      "\r",
      "processing:   1%|▋                                                                     | 4/435 [00:02<03:46,  1.90it/s]"
     ]
    },
    {
     "name": "stdout",
     "output_type": "stream",
     "text": [
      "Processing רש\"י על חולין\n"
     ]
    },
    {
     "name": "stderr",
     "output_type": "stream",
     "text": [
      "\r",
      "processing:   1%|▊                                                                     | 5/435 [00:03<07:00,  1.02it/s]"
     ]
    },
    {
     "name": "stdout",
     "output_type": "stream",
     "text": [
      "Processing רש\"י על כריתות\n"
     ]
    },
    {
     "name": "stderr",
     "output_type": "stream",
     "text": [
      "processing:   2%|█▏                                                                    | 7/435 [00:04<04:02,  1.77it/s]"
     ]
    },
    {
     "name": "stdout",
     "output_type": "stream",
     "text": [
      "Processing רש\"י על מעילה\n",
      "Processing רש\"י על מנחות\n"
     ]
    },
    {
     "name": "stderr",
     "output_type": "stream",
     "text": [
      "\r",
      "processing:   2%|█▎                                                                    | 8/435 [00:05<05:18,  1.34it/s]"
     ]
    },
    {
     "name": "stdout",
     "output_type": "stream",
     "text": [
      "Processing רש\"י על תמורה\n"
     ]
    },
    {
     "name": "stderr",
     "output_type": "stream",
     "text": [
      "\r",
      "processing:   2%|█▍                                                                    | 9/435 [00:05<04:23,  1.62it/s]"
     ]
    },
    {
     "name": "stdout",
     "output_type": "stream",
     "text": [
      "Processing רש\"י על זבחים\n"
     ]
    },
    {
     "name": "stderr",
     "output_type": "stream",
     "text": [
      "\r",
      "processing:   2%|█▌                                                                   | 10/435 [00:07<05:38,  1.26it/s]"
     ]
    },
    {
     "name": "stdout",
     "output_type": "stream",
     "text": [
      "Processing רש\"י על ביצה\n"
     ]
    },
    {
     "name": "stderr",
     "output_type": "stream",
     "text": [
      "\r",
      "processing:   3%|█▋                                                                   | 11/435 [00:07<04:54,  1.44it/s]"
     ]
    },
    {
     "name": "stdout",
     "output_type": "stream",
     "text": [
      "Processing רש\"י על חגיגה\n"
     ]
    },
    {
     "name": "stderr",
     "output_type": "stream",
     "text": [
      "\r",
      "processing:   3%|█▉                                                                   | 12/435 [00:07<03:55,  1.80it/s]"
     ]
    },
    {
     "name": "stdout",
     "output_type": "stream",
     "text": [
      "Processing רש\"י על עירובין\n"
     ]
    },
    {
     "name": "stderr",
     "output_type": "stream",
     "text": [
      "\r",
      "processing:   3%|██                                                                   | 13/435 [00:09<05:21,  1.31it/s]"
     ]
    },
    {
     "name": "stdout",
     "output_type": "stream",
     "text": [
      "Processing רש\"י על מגילה\n"
     ]
    },
    {
     "name": "stderr",
     "output_type": "stream",
     "text": [
      "\r",
      "processing:   3%|██▏                                                                  | 14/435 [00:09<04:25,  1.59it/s]"
     ]
    },
    {
     "name": "stdout",
     "output_type": "stream",
     "text": [
      "Processing רש\"י על מועד קטן\n"
     ]
    },
    {
     "name": "stderr",
     "output_type": "stream",
     "text": [
      "\r",
      "processing:   3%|██▍                                                                  | 15/435 [00:09<03:42,  1.89it/s]"
     ]
    },
    {
     "name": "stdout",
     "output_type": "stream",
     "text": [
      "Processing רש\"י על פסחים\n"
     ]
    },
    {
     "name": "stderr",
     "output_type": "stream",
     "text": [
      "\r",
      "processing:   4%|██▌                                                                  | 16/435 [00:10<04:52,  1.43it/s]"
     ]
    },
    {
     "name": "stdout",
     "output_type": "stream",
     "text": [
      "Processing רש\"י על ראש השנה\n"
     ]
    },
    {
     "name": "stderr",
     "output_type": "stream",
     "text": [
      "\r",
      "processing:   4%|██▋                                                                  | 17/435 [00:11<04:01,  1.73it/s]"
     ]
    },
    {
     "name": "stdout",
     "output_type": "stream",
     "text": [
      "Processing רש\"י על שבת\n"
     ]
    },
    {
     "name": "stderr",
     "output_type": "stream",
     "text": [
      "\r",
      "processing:   4%|██▊                                                                  | 18/435 [00:13<06:57,  1.00s/it]"
     ]
    },
    {
     "name": "stdout",
     "output_type": "stream",
     "text": [
      "Processing רש\"י על סוכה\n"
     ]
    },
    {
     "name": "stderr",
     "output_type": "stream",
     "text": [
      "\r",
      "processing:   4%|███                                                                  | 19/435 [00:13<06:07,  1.13it/s]"
     ]
    },
    {
     "name": "stdout",
     "output_type": "stream",
     "text": [
      "Processing רש\"י על תענית\n"
     ]
    },
    {
     "name": "stderr",
     "output_type": "stream",
     "text": [
      "\r",
      "processing:   5%|███▏                                                                 | 20/435 [00:14<05:03,  1.37it/s]"
     ]
    },
    {
     "name": "stdout",
     "output_type": "stream",
     "text": [
      "Processing רש\"י על יומא\n"
     ]
    },
    {
     "name": "stderr",
     "output_type": "stream",
     "text": [
      "\r",
      "processing:   5%|███▎                                                                 | 21/435 [00:14<04:51,  1.42it/s]"
     ]
    },
    {
     "name": "stdout",
     "output_type": "stream",
     "text": [
      "Processing רש\"י על גיטין\n"
     ]
    },
    {
     "name": "stderr",
     "output_type": "stream",
     "text": [
      "\r",
      "processing:   5%|███▍                                                                 | 22/435 [00:15<05:30,  1.25it/s]"
     ]
    },
    {
     "name": "stdout",
     "output_type": "stream",
     "text": [
      "Processing רש\"י על כתובות\n"
     ]
    },
    {
     "name": "stderr",
     "output_type": "stream",
     "text": [
      "\r",
      "processing:   5%|███▋                                                                 | 23/435 [00:16<06:09,  1.12it/s]"
     ]
    },
    {
     "name": "stdout",
     "output_type": "stream",
     "text": [
      "Processing רש\"י על קידושין\n"
     ]
    },
    {
     "name": "stderr",
     "output_type": "stream",
     "text": [
      "\r",
      "processing:   6%|███▊                                                                 | 24/435 [00:17<06:18,  1.09it/s]"
     ]
    },
    {
     "name": "stdout",
     "output_type": "stream",
     "text": [
      "Processing רש\"י על נזיר\n"
     ]
    },
    {
     "name": "stderr",
     "output_type": "stream",
     "text": [
      "\r",
      "processing:   6%|███▉                                                                 | 25/435 [00:18<05:20,  1.28it/s]"
     ]
    },
    {
     "name": "stdout",
     "output_type": "stream",
     "text": [
      "Processing רש\"י על נדרים\n"
     ]
    },
    {
     "name": "stderr",
     "output_type": "stream",
     "text": [
      "\r",
      "processing:   6%|████                                                                 | 26/435 [00:18<04:53,  1.40it/s]"
     ]
    },
    {
     "name": "stdout",
     "output_type": "stream",
     "text": [
      "Processing רש\"י על סוטה\n"
     ]
    },
    {
     "name": "stderr",
     "output_type": "stream",
     "text": [
      "\r",
      "processing:   6%|████▎                                                                | 27/435 [00:19<04:32,  1.50it/s]"
     ]
    },
    {
     "name": "stdout",
     "output_type": "stream",
     "text": [
      "Processing רש\"י על יבמות\n"
     ]
    },
    {
     "name": "stderr",
     "output_type": "stream",
     "text": [
      "\r",
      "processing:   6%|████▍                                                                | 28/435 [00:20<05:32,  1.23it/s]"
     ]
    },
    {
     "name": "stdout",
     "output_type": "stream",
     "text": [
      "Processing רש\"י על עבודה זרה\n"
     ]
    },
    {
     "name": "stderr",
     "output_type": "stream",
     "text": [
      "\r",
      "processing:   7%|████▌                                                                | 29/435 [00:21<05:25,  1.25it/s]"
     ]
    },
    {
     "name": "stdout",
     "output_type": "stream",
     "text": [
      "Processing רש\"י על בבא בתרא\n"
     ]
    },
    {
     "name": "stderr",
     "output_type": "stream",
     "text": [
      "\r",
      "processing:   7%|████▊                                                                | 30/435 [00:21<04:22,  1.54it/s]"
     ]
    },
    {
     "name": "stdout",
     "output_type": "stream",
     "text": [
      "Processing רש\"י על בבא קמא\n"
     ]
    },
    {
     "name": "stderr",
     "output_type": "stream",
     "text": [
      "\r",
      "processing:   7%|████▉                                                                | 31/435 [00:22<05:17,  1.27it/s]"
     ]
    },
    {
     "name": "stdout",
     "output_type": "stream",
     "text": [
      "Processing רש\"י על בבא מציעא\n"
     ]
    },
    {
     "name": "stderr",
     "output_type": "stream",
     "text": [
      "processing:   8%|█████▏                                                               | 33/435 [00:24<04:45,  1.41it/s]"
     ]
    },
    {
     "name": "stdout",
     "output_type": "stream",
     "text": [
      "Processing רש\"י על הוריות\n",
      "Processing רש\"י על מכות\n"
     ]
    },
    {
     "name": "stderr",
     "output_type": "stream",
     "text": [
      "\r",
      "processing:   8%|█████▍                                                               | 34/435 [00:24<03:43,  1.79it/s]"
     ]
    },
    {
     "name": "stdout",
     "output_type": "stream",
     "text": [
      "Processing רש\"י על סנהדרין\n"
     ]
    },
    {
     "name": "stderr",
     "output_type": "stream",
     "text": [
      "\r",
      "processing:   8%|█████▌                                                               | 35/435 [00:25<05:30,  1.21it/s]"
     ]
    },
    {
     "name": "stdout",
     "output_type": "stream",
     "text": [
      "Processing רש\"י על שבועות\n"
     ]
    },
    {
     "name": "stderr",
     "output_type": "stream",
     "text": [
      "\r",
      "processing:   8%|█████▋                                                               | 36/435 [00:26<04:43,  1.41it/s]"
     ]
    },
    {
     "name": "stdout",
     "output_type": "stream",
     "text": [
      "Processing רש\"י על נדה\n"
     ]
    },
    {
     "name": "stderr",
     "output_type": "stream",
     "text": [
      "\r",
      "processing:   9%|█████▊                                                               | 37/435 [00:27<04:50,  1.37it/s]"
     ]
    },
    {
     "name": "stdout",
     "output_type": "stream",
     "text": [
      "Processing רש\"י על ברכות\n"
     ]
    },
    {
     "name": "stderr",
     "output_type": "stream",
     "text": [
      "\r",
      "processing:   9%|██████                                                               | 38/435 [00:27<04:45,  1.39it/s]"
     ]
    },
    {
     "name": "stdout",
     "output_type": "stream",
     "text": [
      "Processing רש\"י על עמוס\n",
      "Processing רש\"י על יחזקאל\n"
     ]
    },
    {
     "name": "stderr",
     "output_type": "stream",
     "text": [
      "processing:  10%|██████▊                                                              | 43/435 [00:28<02:00,  3.24it/s]"
     ]
    },
    {
     "name": "stdout",
     "output_type": "stream",
     "text": [
      "Processing רש\"י על חבקוק\n",
      "Processing רש\"י על חגי\n",
      "Processing רש\"י על הושע\n",
      "Processing רש\"י על מלכים א\n"
     ]
    },
    {
     "name": "stderr",
     "output_type": "stream",
     "text": [
      "\r",
      "processing:  10%|██████▉                                                              | 44/435 [00:28<01:54,  3.41it/s]"
     ]
    },
    {
     "name": "stdout",
     "output_type": "stream",
     "text": [
      "Processing רש\"י על שמואל א\n"
     ]
    },
    {
     "name": "stderr",
     "output_type": "stream",
     "text": [
      "processing:  11%|███████▎                                                             | 46/435 [00:29<01:39,  3.89it/s]"
     ]
    },
    {
     "name": "stdout",
     "output_type": "stream",
     "text": [
      "Processing רש\"י על מלכים ב\n",
      "Processing רש\"י על שמואל ב\n"
     ]
    },
    {
     "name": "stderr",
     "output_type": "stream",
     "text": [
      "\r",
      "processing:  11%|███████▍                                                             | 47/435 [00:29<01:31,  4.23it/s]"
     ]
    },
    {
     "name": "stdout",
     "output_type": "stream",
     "text": [
      "Processing רש\"י על ישעיהו\n"
     ]
    },
    {
     "name": "stderr",
     "output_type": "stream",
     "text": [
      "\r",
      "processing:  11%|███████▌                                                             | 48/435 [00:30<02:48,  2.30it/s]"
     ]
    },
    {
     "name": "stdout",
     "output_type": "stream",
     "text": [
      "Processing רש\"י על ירמיהו\n"
     ]
    },
    {
     "name": "stderr",
     "output_type": "stream",
     "text": [
      "processing:  12%|████████▏                                                            | 52/435 [00:31<01:30,  4.21it/s]"
     ]
    },
    {
     "name": "stdout",
     "output_type": "stream",
     "text": [
      "Processing רש\"י על יואל\n",
      "Processing רש\"י על יונה\n",
      "Processing רש\"י על יהושע\n"
     ]
    },
    {
     "name": "stderr",
     "output_type": "stream",
     "text": [
      "\r",
      "processing:  12%|████████▍                                                            | 53/435 [00:31<01:24,  4.51it/s]"
     ]
    },
    {
     "name": "stdout",
     "output_type": "stream",
     "text": [
      "Processing רש\"י על שופטים\n",
      "Processing רש\"י על מלאכי\n",
      "Processing רש\"י על מיכה\n"
     ]
    },
    {
     "name": "stderr",
     "output_type": "stream",
     "text": [
      "processing:  13%|█████████▏                                                           | 58/435 [00:31<00:43,  8.60it/s]"
     ]
    },
    {
     "name": "stdout",
     "output_type": "stream",
     "text": [
      "Processing רש\"י על נחום\n",
      "Processing רש\"י על עובדיה\n",
      "Processing רש\"י על זכריה\n",
      "Processing רש\"י על צפניה\n",
      "Processing רש\"י על דברים\n"
     ]
    },
    {
     "name": "stderr",
     "output_type": "stream",
     "text": [
      "\r",
      "processing:  14%|█████████▌                                                           | 60/435 [00:32<00:59,  6.27it/s]"
     ]
    },
    {
     "name": "stdout",
     "output_type": "stream",
     "text": [
      "Processing רש\"י על שמות\n"
     ]
    },
    {
     "name": "stderr",
     "output_type": "stream",
     "text": [
      "\r",
      "processing:  14%|█████████▋                                                           | 61/435 [00:32<01:31,  4.09it/s]"
     ]
    },
    {
     "name": "stdout",
     "output_type": "stream",
     "text": [
      "Processing רש\"י על בראשית\n"
     ]
    },
    {
     "name": "stderr",
     "output_type": "stream",
     "text": [
      "\r",
      "processing:  14%|█████████▊                                                           | 62/435 [00:33<02:04,  2.99it/s]"
     ]
    },
    {
     "name": "stdout",
     "output_type": "stream",
     "text": [
      "Processing רש\"י על ויקרא\n"
     ]
    },
    {
     "name": "stderr",
     "output_type": "stream",
     "text": [
      "\r",
      "processing:  14%|█████████▉                                                           | 63/435 [00:33<02:15,  2.74it/s]"
     ]
    },
    {
     "name": "stdout",
     "output_type": "stream",
     "text": [
      "Processing רש\"י על במדבר\n"
     ]
    },
    {
     "name": "stderr",
     "output_type": "stream",
     "text": [
      "\r",
      "processing:  15%|██████████▏                                                          | 64/435 [00:34<02:24,  2.57it/s]"
     ]
    },
    {
     "name": "stdout",
     "output_type": "stream",
     "text": [
      "Processing רש\"י על דניאל\n"
     ]
    },
    {
     "name": "stderr",
     "output_type": "stream",
     "text": [
      "\r",
      "processing:  15%|██████████▎                                                          | 65/435 [00:34<02:11,  2.82it/s]"
     ]
    },
    {
     "name": "stdout",
     "output_type": "stream",
     "text": [
      "Processing רש\"י על קהלת\n"
     ]
    },
    {
     "name": "stderr",
     "output_type": "stream",
     "text": [
      "processing:  16%|██████████▊                                                          | 68/435 [00:35<01:21,  4.51it/s]"
     ]
    },
    {
     "name": "stdout",
     "output_type": "stream",
     "text": [
      "Processing רש\"י על אסתר\n",
      "Processing רש\"י על עזרא\n"
     ]
    },
    {
     "name": "stderr",
     "output_type": "stream",
     "text": [
      "\r",
      "processing:  16%|██████████▉                                                          | 69/435 [00:35<01:20,  4.52it/s]"
     ]
    },
    {
     "name": "stdout",
     "output_type": "stream",
     "text": [
      "Processing רש\"י על דברי הימים א\n",
      "Processing רש\"י על דברי הימים ב\n"
     ]
    },
    {
     "name": "stderr",
     "output_type": "stream",
     "text": [
      "\r",
      "processing:  16%|███████████                                                          | 70/435 [00:35<01:23,  4.39it/s]"
     ]
    },
    {
     "name": "stdout",
     "output_type": "stream",
     "text": [
      "Processing רש\"י על איוב\n"
     ]
    },
    {
     "name": "stderr",
     "output_type": "stream",
     "text": [
      "processing:  17%|███████████▌                                                         | 73/435 [00:36<01:17,  4.70it/s]"
     ]
    },
    {
     "name": "stdout",
     "output_type": "stream",
     "text": [
      "Processing רש\"י על איכה\n",
      "Processing רש\"י על נחמיה\n",
      "Processing רש\"י על משלי\n"
     ]
    },
    {
     "name": "stderr",
     "output_type": "stream",
     "text": [
      "\r",
      "processing:  17%|███████████▋                                                         | 74/435 [00:36<01:32,  3.90it/s]"
     ]
    },
    {
     "name": "stdout",
     "output_type": "stream",
     "text": [
      "Processing רש\"י על תהילים\n"
     ]
    },
    {
     "name": "stderr",
     "output_type": "stream",
     "text": [
      "processing:  18%|████████████▏                                                        | 77/435 [00:37<01:37,  3.68it/s]"
     ]
    },
    {
     "name": "stdout",
     "output_type": "stream",
     "text": [
      "Processing רש\"י על רות\n",
      "Processing רש\"י על שיר השירים\n",
      "Processing דברים\n"
     ]
    },
    {
     "name": "stderr",
     "output_type": "stream",
     "text": [
      "\r",
      "processing:  18%|████████████▎                                                        | 78/435 [00:38<01:51,  3.20it/s]"
     ]
    },
    {
     "name": "stdout",
     "output_type": "stream",
     "text": [
      "Processing דברים\n"
     ]
    },
    {
     "name": "stderr",
     "output_type": "stream",
     "text": [
      "\r",
      "processing:  18%|████████████▌                                                        | 79/435 [00:38<01:58,  3.00it/s]"
     ]
    },
    {
     "name": "stdout",
     "output_type": "stream",
     "text": [
      "Processing שמות\n"
     ]
    },
    {
     "name": "stderr",
     "output_type": "stream",
     "text": [
      "\r",
      "processing:  18%|████████████▋                                                        | 80/435 [00:38<02:16,  2.59it/s]"
     ]
    },
    {
     "name": "stdout",
     "output_type": "stream",
     "text": [
      "Processing שמות\n"
     ]
    },
    {
     "name": "stderr",
     "output_type": "stream",
     "text": [
      "\r",
      "processing:  19%|████████████▊                                                        | 81/435 [00:39<02:25,  2.43it/s]"
     ]
    },
    {
     "name": "stdout",
     "output_type": "stream",
     "text": [
      "Processing בראשית\n"
     ]
    },
    {
     "name": "stderr",
     "output_type": "stream",
     "text": [
      "\r",
      "processing:  19%|█████████████                                                        | 82/435 [00:40<02:49,  2.09it/s]"
     ]
    },
    {
     "name": "stdout",
     "output_type": "stream",
     "text": [
      "Processing בראשית\n"
     ]
    },
    {
     "name": "stderr",
     "output_type": "stream",
     "text": [
      "\r",
      "processing:  19%|█████████████▏                                                       | 83/435 [00:40<02:40,  2.19it/s]"
     ]
    },
    {
     "name": "stdout",
     "output_type": "stream",
     "text": [
      "Processing ויקרא\n"
     ]
    },
    {
     "name": "stderr",
     "output_type": "stream",
     "text": [
      "\r",
      "processing:  19%|█████████████▎                                                       | 84/435 [00:40<02:31,  2.32it/s]"
     ]
    },
    {
     "name": "stdout",
     "output_type": "stream",
     "text": [
      "Processing ויקרא\n"
     ]
    },
    {
     "name": "stderr",
     "output_type": "stream",
     "text": [
      "\r",
      "processing:  20%|█████████████▍                                                       | 85/435 [00:41<02:19,  2.51it/s]"
     ]
    },
    {
     "name": "stdout",
     "output_type": "stream",
     "text": [
      "Processing במדבר\n"
     ]
    },
    {
     "name": "stderr",
     "output_type": "stream",
     "text": [
      "\r",
      "processing:  20%|█████████████▋                                                       | 86/435 [00:41<02:36,  2.24it/s]"
     ]
    },
    {
     "name": "stdout",
     "output_type": "stream",
     "text": [
      "Processing במדבר\n"
     ]
    },
    {
     "name": "stderr",
     "output_type": "stream",
     "text": [
      "processing:  20%|█████████████▉                                                       | 88/435 [00:42<02:10,  2.65it/s]"
     ]
    },
    {
     "name": "stdout",
     "output_type": "stream",
     "text": [
      "Processing עמוס\n",
      "Processing עמוס\n",
      "Processing יחזקאל\n"
     ]
    },
    {
     "name": "stderr",
     "output_type": "stream",
     "text": [
      "\r",
      "processing:  21%|██████████████▎                                                      | 90/435 [00:43<02:22,  2.43it/s]"
     ]
    },
    {
     "name": "stdout",
     "output_type": "stream",
     "text": [
      "Processing יחזקאל\n"
     ]
    },
    {
     "name": "stderr",
     "output_type": "stream",
     "text": [
      "processing:  21%|██████████████▊                                                      | 93/435 [00:43<01:34,  3.60it/s]"
     ]
    },
    {
     "name": "stdout",
     "output_type": "stream",
     "text": [
      "Processing חבקוק\n",
      "Processing חבקוק\n",
      "Processing חגי\n",
      "Processing חגי\n",
      "Processing הושע\n"
     ]
    },
    {
     "name": "stderr",
     "output_type": "stream",
     "text": [
      "\r",
      "processing:  22%|███████████████▏                                                     | 96/435 [00:44<01:09,  4.90it/s]"
     ]
    },
    {
     "name": "stdout",
     "output_type": "stream",
     "text": [
      "Processing הושע\n",
      "Processing מלכים א\n"
     ]
    },
    {
     "name": "stderr",
     "output_type": "stream",
     "text": [
      "\r",
      "processing:  23%|███████████████▌                                                     | 98/435 [00:44<01:12,  4.65it/s]"
     ]
    },
    {
     "name": "stdout",
     "output_type": "stream",
     "text": [
      "Processing מלכים א\n"
     ]
    },
    {
     "name": "stderr",
     "output_type": "stream",
     "text": [
      "\r",
      "processing:  23%|███████████████▋                                                     | 99/435 [00:45<01:19,  4.21it/s]"
     ]
    },
    {
     "name": "stdout",
     "output_type": "stream",
     "text": [
      "Processing שמואל א\n"
     ]
    },
    {
     "name": "stderr",
     "output_type": "stream",
     "text": [
      "\r",
      "processing:  23%|███████████████▋                                                    | 100/435 [00:45<01:34,  3.56it/s]"
     ]
    },
    {
     "name": "stdout",
     "output_type": "stream",
     "text": [
      "Processing שמואל א\n"
     ]
    },
    {
     "name": "stderr",
     "output_type": "stream",
     "text": [
      "\r",
      "processing:  23%|███████████████▊                                                    | 101/435 [00:45<01:39,  3.35it/s]"
     ]
    },
    {
     "name": "stdout",
     "output_type": "stream",
     "text": [
      "Processing מלכים ב\n"
     ]
    },
    {
     "name": "stderr",
     "output_type": "stream",
     "text": [
      "processing:  24%|████████████████                                                    | 103/435 [00:46<01:45,  3.14it/s]"
     ]
    },
    {
     "name": "stdout",
     "output_type": "stream",
     "text": [
      "Processing מלכים ב\n",
      "Processing שמואל ב\n"
     ]
    },
    {
     "name": "stderr",
     "output_type": "stream",
     "text": [
      "\r",
      "processing:  24%|████████████████▎                                                   | 104/435 [00:46<01:50,  2.98it/s]"
     ]
    },
    {
     "name": "stdout",
     "output_type": "stream",
     "text": [
      "Processing שמואל ב\n"
     ]
    },
    {
     "name": "stderr",
     "output_type": "stream",
     "text": [
      "\r",
      "processing:  24%|████████████████▍                                                   | 105/435 [00:47<01:48,  3.04it/s]"
     ]
    },
    {
     "name": "stdout",
     "output_type": "stream",
     "text": [
      "Processing ישעיהו\n"
     ]
    },
    {
     "name": "stderr",
     "output_type": "stream",
     "text": [
      "\r",
      "processing:  24%|████████████████▌                                                   | 106/435 [00:48<03:55,  1.40it/s]"
     ]
    },
    {
     "name": "stdout",
     "output_type": "stream",
     "text": [
      "Processing ישעיהו\n"
     ]
    },
    {
     "name": "stderr",
     "output_type": "stream",
     "text": [
      "\r",
      "processing:  25%|████████████████▋                                                   | 107/435 [00:49<03:34,  1.53it/s]"
     ]
    },
    {
     "name": "stdout",
     "output_type": "stream",
     "text": [
      "Processing ירמיהו\n"
     ]
    },
    {
     "name": "stderr",
     "output_type": "stream",
     "text": [
      "\r",
      "processing:  25%|████████████████▉                                                   | 108/435 [00:50<04:32,  1.20it/s]"
     ]
    },
    {
     "name": "stdout",
     "output_type": "stream",
     "text": [
      "Processing ירמיהו\n"
     ]
    },
    {
     "name": "stderr",
     "output_type": "stream",
     "text": [
      "processing:  25%|█████████████████▏                                                  | 110/435 [00:51<03:07,  1.74it/s]"
     ]
    },
    {
     "name": "stdout",
     "output_type": "stream",
     "text": [
      "Processing יואל\n",
      "Processing יואל\n",
      "Processing יונה\n",
      "Processing יונה\n",
      "Processing יהושע\n"
     ]
    },
    {
     "name": "stderr",
     "output_type": "stream",
     "text": [
      "\r",
      "processing:  26%|█████████████████▊                                                  | 114/435 [00:51<01:29,  3.57it/s]"
     ]
    },
    {
     "name": "stdout",
     "output_type": "stream",
     "text": [
      "Processing יהושע\n"
     ]
    },
    {
     "name": "stderr",
     "output_type": "stream",
     "text": [
      "\r",
      "processing:  26%|█████████████████▉                                                  | 115/435 [00:52<01:31,  3.51it/s]"
     ]
    },
    {
     "name": "stdout",
     "output_type": "stream",
     "text": [
      "Processing שופטים\n"
     ]
    },
    {
     "name": "stderr",
     "output_type": "stream",
     "text": [
      "\r",
      "processing:  27%|██████████████████▏                                                 | 116/435 [00:52<01:35,  3.35it/s]"
     ]
    },
    {
     "name": "stdout",
     "output_type": "stream",
     "text": [
      "Processing שופטים\n"
     ]
    },
    {
     "name": "stderr",
     "output_type": "stream",
     "text": [
      "\r",
      "processing:  27%|██████████████████▎                                                 | 117/435 [00:52<01:37,  3.26it/s]"
     ]
    },
    {
     "name": "stdout",
     "output_type": "stream",
     "text": [
      "Processing מלאכי\n",
      "Processing מלאכי\n",
      "Processing מיכה\n"
     ]
    },
    {
     "name": "stderr",
     "output_type": "stream",
     "text": [
      "processing:  28%|███████████████████                                                 | 122/435 [00:53<00:50,  6.18it/s]"
     ]
    },
    {
     "name": "stdout",
     "output_type": "stream",
     "text": [
      "Processing מיכה\n",
      "Processing נחום\n",
      "Processing נחום\n",
      "Processing עובדיה\n"
     ]
    },
    {
     "name": "stderr",
     "output_type": "stream",
     "text": [
      "\r",
      "processing:  29%|███████████████████▋                                                | 126/435 [00:53<00:36,  8.36it/s]"
     ]
    },
    {
     "name": "stdout",
     "output_type": "stream",
     "text": [
      "Processing עובדיה\n",
      "Processing זכריה\n"
     ]
    },
    {
     "name": "stderr",
     "output_type": "stream",
     "text": [
      "processing:  29%|████████████████████                                                | 128/435 [00:53<00:35,  8.70it/s]"
     ]
    },
    {
     "name": "stdout",
     "output_type": "stream",
     "text": [
      "Processing זכריה\n",
      "Processing צפניה\n",
      "Processing צפניה\n"
     ]
    },
    {
     "name": "stderr",
     "output_type": "stream",
     "text": [
      "\r",
      "processing:  30%|████████████████████▎                                               | 130/435 [00:54<00:33,  9.08it/s]"
     ]
    },
    {
     "name": "stdout",
     "output_type": "stream",
     "text": [
      "Processing דניאל\n",
      "Processing דניאל\n"
     ]
    },
    {
     "name": "stderr",
     "output_type": "stream",
     "text": [
      "processing:  31%|████████████████████▊                                               | 133/435 [00:54<00:39,  7.68it/s]"
     ]
    },
    {
     "name": "stdout",
     "output_type": "stream",
     "text": [
      "Processing קהלת\n",
      "Processing קהלת\n"
     ]
    },
    {
     "name": "stderr",
     "output_type": "stream",
     "text": [
      "\r",
      "processing:  31%|█████████████████████                                               | 135/435 [00:54<00:32,  9.10it/s]"
     ]
    },
    {
     "name": "stdout",
     "output_type": "stream",
     "text": [
      "Processing אסתר\n",
      "Processing אסתר\n",
      "Processing עזרא\n"
     ]
    },
    {
     "name": "stderr",
     "output_type": "stream",
     "text": [
      "processing:  31%|█████████████████████▍                                              | 137/435 [00:54<00:36,  8.10it/s]"
     ]
    },
    {
     "name": "stdout",
     "output_type": "stream",
     "text": [
      "Processing עזרא\n",
      "Processing דברי הימים א\n"
     ]
    },
    {
     "name": "stderr",
     "output_type": "stream",
     "text": [
      "\r",
      "processing:  32%|█████████████████████▌                                              | 138/435 [00:55<00:56,  5.29it/s]"
     ]
    },
    {
     "name": "stdout",
     "output_type": "stream",
     "text": [
      "Processing דברי הימים א\n"
     ]
    },
    {
     "name": "stderr",
     "output_type": "stream",
     "text": [
      "\r",
      "processing:  32%|█████████████████████▋                                              | 139/435 [00:55<01:14,  3.99it/s]"
     ]
    },
    {
     "name": "stdout",
     "output_type": "stream",
     "text": [
      "Processing דברי הימים ב\n"
     ]
    },
    {
     "name": "stderr",
     "output_type": "stream",
     "text": [
      "\r",
      "processing:  32%|█████████████████████▉                                              | 140/435 [00:56<01:25,  3.45it/s]"
     ]
    },
    {
     "name": "stdout",
     "output_type": "stream",
     "text": [
      "Processing דברי הימים ב\n"
     ]
    },
    {
     "name": "stderr",
     "output_type": "stream",
     "text": [
      "\r",
      "processing:  32%|██████████████████████                                              | 141/435 [00:56<01:32,  3.17it/s]"
     ]
    },
    {
     "name": "stdout",
     "output_type": "stream",
     "text": [
      "Processing איוב\n"
     ]
    },
    {
     "name": "stderr",
     "output_type": "stream",
     "text": [
      "\r",
      "processing:  33%|██████████████████████▏                                             | 142/435 [00:56<01:43,  2.82it/s]"
     ]
    },
    {
     "name": "stdout",
     "output_type": "stream",
     "text": [
      "Processing איוב\n"
     ]
    },
    {
     "name": "stderr",
     "output_type": "stream",
     "text": [
      "processing:  33%|██████████████████████▌                                             | 144/435 [00:57<01:21,  3.55it/s]"
     ]
    },
    {
     "name": "stdout",
     "output_type": "stream",
     "text": [
      "Processing איכה\n",
      "Processing איכה\n"
     ]
    },
    {
     "name": "stderr",
     "output_type": "stream",
     "text": [
      "\r",
      "processing:  34%|██████████████████████▊                                             | 146/435 [00:57<01:00,  4.74it/s]"
     ]
    },
    {
     "name": "stdout",
     "output_type": "stream",
     "text": [
      "Processing נחמיה\n",
      "Processing נחמיה\n"
     ]
    },
    {
     "name": "stderr",
     "output_type": "stream",
     "text": [
      "\r",
      "processing:  34%|██████████████████████▉                                             | 147/435 [00:57<00:59,  4.84it/s]"
     ]
    },
    {
     "name": "stdout",
     "output_type": "stream",
     "text": [
      "Processing משלי\n"
     ]
    },
    {
     "name": "stderr",
     "output_type": "stream",
     "text": [
      "\r",
      "processing:  34%|███████████████████████▏                                            | 148/435 [00:58<01:13,  3.89it/s]"
     ]
    },
    {
     "name": "stdout",
     "output_type": "stream",
     "text": [
      "Processing משלי\n"
     ]
    },
    {
     "name": "stderr",
     "output_type": "stream",
     "text": [
      "\r",
      "processing:  34%|███████████████████████▎                                            | 149/435 [00:58<01:17,  3.67it/s]"
     ]
    },
    {
     "name": "stdout",
     "output_type": "stream",
     "text": [
      "Processing תהילים\n"
     ]
    },
    {
     "name": "stderr",
     "output_type": "stream",
     "text": [
      "\r",
      "processing:  34%|███████████████████████▍                                            | 150/435 [00:59<02:33,  1.86it/s]"
     ]
    },
    {
     "name": "stdout",
     "output_type": "stream",
     "text": [
      "Processing תהילים\n"
     ]
    },
    {
     "name": "stderr",
     "output_type": "stream",
     "text": [
      "\r",
      "processing:  35%|███████████████████████▌                                            | 151/435 [01:00<02:55,  1.61it/s]"
     ]
    },
    {
     "name": "stdout",
     "output_type": "stream",
     "text": [
      "Processing רות\n",
      "Processing רות\n",
      "Processing שיר השירים\n"
     ]
    },
    {
     "name": "stderr",
     "output_type": "stream",
     "text": [
      "\r",
      "processing:  35%|████████████████████████                                            | 154/435 [01:00<01:31,  3.07it/s]"
     ]
    },
    {
     "name": "stdout",
     "output_type": "stream",
     "text": [
      "Processing שיר השירים\n",
      "Processing ערכין\n"
     ]
    },
    {
     "name": "stderr",
     "output_type": "stream",
     "text": [
      "\r",
      "processing:  36%|████████████████████████▍                                           | 156/435 [01:03<02:49,  1.65it/s]"
     ]
    },
    {
     "name": "stdout",
     "output_type": "stream",
     "text": [
      "Processing ערכין\n"
     ]
    },
    {
     "name": "stderr",
     "output_type": "stream",
     "text": [
      "\r",
      "processing:  36%|████████████████████████▌                                           | 157/435 [01:03<02:39,  1.74it/s]"
     ]
    },
    {
     "name": "stdout",
     "output_type": "stream",
     "text": [
      "Processing בכורות\n"
     ]
    },
    {
     "name": "stderr",
     "output_type": "stream",
     "text": [
      "\r",
      "processing:  36%|████████████████████████▋                                           | 158/435 [01:07<05:57,  1.29s/it]"
     ]
    },
    {
     "name": "stdout",
     "output_type": "stream",
     "text": [
      "Processing בכורות\n"
     ]
    },
    {
     "name": "stderr",
     "output_type": "stream",
     "text": [
      "\r",
      "processing:  37%|████████████████████████▊                                           | 159/435 [01:08<05:17,  1.15s/it]"
     ]
    },
    {
     "name": "stdout",
     "output_type": "stream",
     "text": [
      "Processing חולין\n"
     ]
    },
    {
     "name": "stderr",
     "output_type": "stream",
     "text": [
      "\r",
      "processing:  37%|█████████████████████████                                           | 160/435 [01:16<13:25,  2.93s/it]"
     ]
    },
    {
     "name": "stdout",
     "output_type": "stream",
     "text": [
      "Processing חולין\n"
     ]
    },
    {
     "name": "stderr",
     "output_type": "stream",
     "text": [
      "\r",
      "processing:  37%|█████████████████████████▏                                          | 161/435 [01:17<11:28,  2.51s/it]"
     ]
    },
    {
     "name": "stdout",
     "output_type": "stream",
     "text": [
      "Processing כריתות\n"
     ]
    },
    {
     "name": "stderr",
     "output_type": "stream",
     "text": [
      "\r",
      "processing:  37%|█████████████████████████▎                                          | 162/435 [01:20<11:20,  2.49s/it]"
     ]
    },
    {
     "name": "stdout",
     "output_type": "stream",
     "text": [
      "Processing כריתות\n"
     ]
    },
    {
     "name": "stderr",
     "output_type": "stream",
     "text": [
      "\r",
      "processing:  37%|█████████████████████████▍                                          | 163/435 [01:20<08:42,  1.92s/it]"
     ]
    },
    {
     "name": "stdout",
     "output_type": "stream",
     "text": [
      "Processing מעילה\n"
     ]
    },
    {
     "name": "stderr",
     "output_type": "stream",
     "text": [
      "processing:  38%|█████████████████████████▊                                          | 165/435 [01:21<05:30,  1.23s/it]"
     ]
    },
    {
     "name": "stdout",
     "output_type": "stream",
     "text": [
      "Processing מעילה\n",
      "Processing מנחות\n"
     ]
    },
    {
     "name": "stderr",
     "output_type": "stream",
     "text": [
      "\r",
      "processing:  38%|█████████████████████████▉                                          | 166/435 [01:29<13:43,  3.06s/it]"
     ]
    },
    {
     "name": "stdout",
     "output_type": "stream",
     "text": [
      "Processing מנחות\n"
     ]
    },
    {
     "name": "stderr",
     "output_type": "stream",
     "text": [
      "\r",
      "processing:  38%|██████████████████████████                                          | 167/435 [01:30<11:07,  2.49s/it]"
     ]
    },
    {
     "name": "stdout",
     "output_type": "stream",
     "text": [
      "Processing תמיד\n"
     ]
    },
    {
     "name": "stderr",
     "output_type": "stream",
     "text": [
      "\r",
      "processing:  39%|██████████████████████████▎                                         | 168/435 [01:30<08:17,  1.86s/it]"
     ]
    },
    {
     "name": "stdout",
     "output_type": "stream",
     "text": [
      "Processing תמיד\n",
      "Processing תמורה\n"
     ]
    },
    {
     "name": "stderr",
     "output_type": "stream",
     "text": [
      "\r",
      "processing:  39%|██████████████████████████▌                                         | 170/435 [01:33<06:43,  1.52s/it]"
     ]
    },
    {
     "name": "stdout",
     "output_type": "stream",
     "text": [
      "Processing תמורה\n"
     ]
    },
    {
     "name": "stderr",
     "output_type": "stream",
     "text": [
      "\r",
      "processing:  39%|██████████████████████████▋                                         | 171/435 [01:33<05:32,  1.26s/it]"
     ]
    },
    {
     "name": "stdout",
     "output_type": "stream",
     "text": [
      "Processing זבחים\n"
     ]
    },
    {
     "name": "stderr",
     "output_type": "stream",
     "text": [
      "\r",
      "processing:  40%|██████████████████████████▉                                         | 172/435 [01:40<11:58,  2.73s/it]"
     ]
    },
    {
     "name": "stdout",
     "output_type": "stream",
     "text": [
      "Processing זבחים\n"
     ]
    },
    {
     "name": "stderr",
     "output_type": "stream",
     "text": [
      "\r",
      "processing:  40%|███████████████████████████                                         | 173/435 [01:41<09:58,  2.29s/it]"
     ]
    },
    {
     "name": "stdout",
     "output_type": "stream",
     "text": [
      "Processing ביצה\n"
     ]
    },
    {
     "name": "stderr",
     "output_type": "stream",
     "text": [
      "\r",
      "processing:  40%|███████████████████████████▏                                        | 174/435 [01:43<09:44,  2.24s/it]"
     ]
    },
    {
     "name": "stdout",
     "output_type": "stream",
     "text": [
      "Processing ביצה\n"
     ]
    },
    {
     "name": "stderr",
     "output_type": "stream",
     "text": [
      "\r",
      "processing:  40%|███████████████████████████▎                                        | 175/435 [01:44<07:28,  1.73s/it]"
     ]
    },
    {
     "name": "stdout",
     "output_type": "stream",
     "text": [
      "Processing חגיגה\n"
     ]
    },
    {
     "name": "stderr",
     "output_type": "stream",
     "text": [
      "processing:  41%|███████████████████████████▋                                        | 177/435 [01:45<05:21,  1.25s/it]"
     ]
    },
    {
     "name": "stdout",
     "output_type": "stream",
     "text": [
      "Processing חגיגה\n",
      "Processing עירובין\n"
     ]
    },
    {
     "name": "stderr",
     "output_type": "stream",
     "text": [
      "\r",
      "processing:  41%|███████████████████████████▊                                        | 178/435 [01:51<11:13,  2.62s/it]"
     ]
    },
    {
     "name": "stdout",
     "output_type": "stream",
     "text": [
      "Processing עירובין\n"
     ]
    },
    {
     "name": "stderr",
     "output_type": "stream",
     "text": [
      "\r",
      "processing:  41%|███████████████████████████▉                                        | 179/435 [01:52<09:21,  2.19s/it]"
     ]
    },
    {
     "name": "stdout",
     "output_type": "stream",
     "text": [
      "Processing מגילה\n"
     ]
    },
    {
     "name": "stderr",
     "output_type": "stream",
     "text": [
      "\r",
      "processing:  41%|████████████████████████████▏                                       | 180/435 [01:54<09:16,  2.18s/it]"
     ]
    },
    {
     "name": "stdout",
     "output_type": "stream",
     "text": [
      "Processing מגילה\n"
     ]
    },
    {
     "name": "stderr",
     "output_type": "stream",
     "text": [
      "\r",
      "processing:  42%|████████████████████████████▎                                       | 181/435 [01:55<07:04,  1.67s/it]"
     ]
    },
    {
     "name": "stdout",
     "output_type": "stream",
     "text": [
      "Processing מועד קטן\n"
     ]
    },
    {
     "name": "stderr",
     "output_type": "stream",
     "text": [
      "\r",
      "processing:  42%|████████████████████████████▍                                       | 182/435 [01:57<07:06,  1.69s/it]"
     ]
    },
    {
     "name": "stdout",
     "output_type": "stream",
     "text": [
      "Processing מועד קטן\n"
     ]
    },
    {
     "name": "stderr",
     "output_type": "stream",
     "text": [
      "\r",
      "processing:  42%|████████████████████████████▌                                       | 183/435 [01:57<05:27,  1.30s/it]"
     ]
    },
    {
     "name": "stdout",
     "output_type": "stream",
     "text": [
      "Processing פסחים\n"
     ]
    },
    {
     "name": "stderr",
     "output_type": "stream",
     "text": [
      "\r",
      "processing:  42%|████████████████████████████▊                                       | 184/435 [02:04<12:08,  2.90s/it]"
     ]
    },
    {
     "name": "stdout",
     "output_type": "stream",
     "text": [
      "Processing פסחים\n"
     ]
    },
    {
     "name": "stderr",
     "output_type": "stream",
     "text": [
      "\r",
      "processing:  43%|████████████████████████████▉                                       | 185/435 [02:05<10:05,  2.42s/it]"
     ]
    },
    {
     "name": "stdout",
     "output_type": "stream",
     "text": [
      "Processing ראש השנה\n"
     ]
    },
    {
     "name": "stderr",
     "output_type": "stream",
     "text": [
      "\r",
      "processing:  43%|█████████████████████████████                                       | 186/435 [02:07<09:24,  2.27s/it]"
     ]
    },
    {
     "name": "stdout",
     "output_type": "stream",
     "text": [
      "Processing ראש השנה\n"
     ]
    },
    {
     "name": "stderr",
     "output_type": "stream",
     "text": [
      "\r",
      "processing:  43%|█████████████████████████████▏                                      | 187/435 [02:07<07:04,  1.71s/it]"
     ]
    },
    {
     "name": "stdout",
     "output_type": "stream",
     "text": [
      "Processing שבת\n"
     ]
    },
    {
     "name": "stderr",
     "output_type": "stream",
     "text": [
      "\r",
      "processing:  43%|█████████████████████████████▍                                      | 188/435 [02:16<15:14,  3.70s/it]"
     ]
    },
    {
     "name": "stdout",
     "output_type": "stream",
     "text": [
      "Processing שבת\n"
     ]
    },
    {
     "name": "stderr",
     "output_type": "stream",
     "text": [
      "\r",
      "processing:  43%|█████████████████████████████▌                                      | 189/435 [02:17<12:32,  3.06s/it]"
     ]
    },
    {
     "name": "stdout",
     "output_type": "stream",
     "text": [
      "Processing סוכה\n"
     ]
    },
    {
     "name": "stderr",
     "output_type": "stream",
     "text": [
      "\r",
      "processing:  44%|█████████████████████████████▋                                      | 190/435 [02:20<12:11,  2.99s/it]"
     ]
    },
    {
     "name": "stdout",
     "output_type": "stream",
     "text": [
      "Processing סוכה\n"
     ]
    },
    {
     "name": "stderr",
     "output_type": "stream",
     "text": [
      "\r",
      "processing:  44%|█████████████████████████████▊                                      | 191/435 [02:21<09:07,  2.25s/it]"
     ]
    },
    {
     "name": "stdout",
     "output_type": "stream",
     "text": [
      "Processing תענית\n"
     ]
    },
    {
     "name": "stderr",
     "output_type": "stream",
     "text": [
      "\r",
      "processing:  44%|██████████████████████████████                                      | 192/435 [02:22<08:18,  2.05s/it]"
     ]
    },
    {
     "name": "stdout",
     "output_type": "stream",
     "text": [
      "Processing תענית\n"
     ]
    },
    {
     "name": "stderr",
     "output_type": "stream",
     "text": [
      "\r",
      "processing:  44%|██████████████████████████████▏                                     | 193/435 [02:23<06:12,  1.54s/it]"
     ]
    },
    {
     "name": "stdout",
     "output_type": "stream",
     "text": [
      "Processing יומא\n"
     ]
    },
    {
     "name": "stderr",
     "output_type": "stream",
     "text": [
      "\r",
      "processing:  45%|██████████████████████████████▎                                     | 194/435 [02:27<09:26,  2.35s/it]"
     ]
    },
    {
     "name": "stdout",
     "output_type": "stream",
     "text": [
      "Processing יומא\n"
     ]
    },
    {
     "name": "stderr",
     "output_type": "stream",
     "text": [
      "\r",
      "processing:  45%|██████████████████████████████▍                                     | 195/435 [02:28<07:35,  1.90s/it]"
     ]
    },
    {
     "name": "stdout",
     "output_type": "stream",
     "text": [
      "Processing גיטין\n"
     ]
    },
    {
     "name": "stderr",
     "output_type": "stream",
     "text": [
      "\r",
      "processing:  45%|██████████████████████████████▋                                     | 196/435 [02:33<11:27,  2.88s/it]"
     ]
    },
    {
     "name": "stdout",
     "output_type": "stream",
     "text": [
      "Processing גיטין\n"
     ]
    },
    {
     "name": "stderr",
     "output_type": "stream",
     "text": [
      "\r",
      "processing:  45%|██████████████████████████████▊                                     | 197/435 [02:34<09:15,  2.33s/it]"
     ]
    },
    {
     "name": "stdout",
     "output_type": "stream",
     "text": [
      "Processing כתובות\n"
     ]
    },
    {
     "name": "stderr",
     "output_type": "stream",
     "text": [
      "\r",
      "processing:  46%|██████████████████████████████▉                                     | 198/435 [02:40<13:18,  3.37s/it]"
     ]
    },
    {
     "name": "stdout",
     "output_type": "stream",
     "text": [
      "Processing כתובות\n"
     ]
    },
    {
     "name": "stderr",
     "output_type": "stream",
     "text": [
      "\r",
      "processing:  46%|███████████████████████████████                                     | 199/435 [02:41<10:38,  2.71s/it]"
     ]
    },
    {
     "name": "stdout",
     "output_type": "stream",
     "text": [
      "Processing קידושין\n"
     ]
    },
    {
     "name": "stderr",
     "output_type": "stream",
     "text": [
      "\r",
      "processing:  46%|███████████████████████████████▎                                    | 200/435 [02:46<13:06,  3.35s/it]"
     ]
    },
    {
     "name": "stdout",
     "output_type": "stream",
     "text": [
      "Processing קידושין\n"
     ]
    },
    {
     "name": "stderr",
     "output_type": "stream",
     "text": [
      "\r",
      "processing:  46%|███████████████████████████████▍                                    | 201/435 [02:47<10:10,  2.61s/it]"
     ]
    },
    {
     "name": "stdout",
     "output_type": "stream",
     "text": [
      "Processing נזיר\n"
     ]
    },
    {
     "name": "stderr",
     "output_type": "stream",
     "text": [
      "\r",
      "processing:  46%|███████████████████████████████▌                                    | 202/435 [02:49<09:55,  2.56s/it]"
     ]
    },
    {
     "name": "stdout",
     "output_type": "stream",
     "text": [
      "Processing נזיר\n"
     ]
    },
    {
     "name": "stderr",
     "output_type": "stream",
     "text": [
      "\r",
      "processing:  47%|███████████████████████████████▋                                    | 203/435 [02:49<07:28,  1.93s/it]"
     ]
    },
    {
     "name": "stdout",
     "output_type": "stream",
     "text": [
      "Processing נדרים\n"
     ]
    },
    {
     "name": "stderr",
     "output_type": "stream",
     "text": [
      "\r",
      "processing:  47%|███████████████████████████████▉                                    | 204/435 [02:52<08:24,  2.18s/it]"
     ]
    },
    {
     "name": "stdout",
     "output_type": "stream",
     "text": [
      "Processing נדרים\n"
     ]
    },
    {
     "name": "stderr",
     "output_type": "stream",
     "text": [
      "\r",
      "processing:  47%|████████████████████████████████                                    | 205/435 [02:53<06:36,  1.72s/it]"
     ]
    },
    {
     "name": "stdout",
     "output_type": "stream",
     "text": [
      "Processing סוטה\n"
     ]
    },
    {
     "name": "stderr",
     "output_type": "stream",
     "text": [
      "\r",
      "processing:  47%|████████████████████████████████▏                                   | 206/435 [02:56<08:08,  2.14s/it]"
     ]
    },
    {
     "name": "stdout",
     "output_type": "stream",
     "text": [
      "Processing סוטה\n"
     ]
    },
    {
     "name": "stderr",
     "output_type": "stream",
     "text": [
      "\r",
      "processing:  48%|████████████████████████████████▎                                   | 207/435 [02:57<06:24,  1.69s/it]"
     ]
    },
    {
     "name": "stdout",
     "output_type": "stream",
     "text": [
      "Processing יבמות\n"
     ]
    },
    {
     "name": "stderr",
     "output_type": "stream",
     "text": [
      "\r",
      "processing:  48%|████████████████████████████████▌                                   | 208/435 [03:04<12:56,  3.42s/it]"
     ]
    },
    {
     "name": "stdout",
     "output_type": "stream",
     "text": [
      "Processing יבמות\n"
     ]
    },
    {
     "name": "stderr",
     "output_type": "stream",
     "text": [
      "\r",
      "processing:  48%|████████████████████████████████▋                                   | 209/435 [03:05<10:31,  2.79s/it]"
     ]
    },
    {
     "name": "stdout",
     "output_type": "stream",
     "text": [
      "Processing עבודה זרה\n"
     ]
    },
    {
     "name": "stderr",
     "output_type": "stream",
     "text": [
      "\r",
      "processing:  48%|████████████████████████████████▊                                   | 210/435 [03:09<11:25,  3.05s/it]"
     ]
    },
    {
     "name": "stdout",
     "output_type": "stream",
     "text": [
      "Processing עבודה זרה\n"
     ]
    },
    {
     "name": "stderr",
     "output_type": "stream",
     "text": [
      "\r",
      "processing:  49%|████████████████████████████████▉                                   | 211/435 [03:10<08:52,  2.38s/it]"
     ]
    },
    {
     "name": "stdout",
     "output_type": "stream",
     "text": [
      "Processing בבא בתרא\n"
     ]
    },
    {
     "name": "stderr",
     "output_type": "stream",
     "text": [
      "\r",
      "processing:  49%|█████████████████████████████████▏                                  | 212/435 [03:16<13:26,  3.62s/it]"
     ]
    },
    {
     "name": "stdout",
     "output_type": "stream",
     "text": [
      "Processing בבא בתרא\n"
     ]
    },
    {
     "name": "stderr",
     "output_type": "stream",
     "text": [
      "\r",
      "processing:  49%|█████████████████████████████████▎                                  | 213/435 [03:18<10:54,  2.95s/it]"
     ]
    },
    {
     "name": "stdout",
     "output_type": "stream",
     "text": [
      "Processing בבא קמא\n"
     ]
    },
    {
     "name": "stderr",
     "output_type": "stream",
     "text": [
      "\r",
      "processing:  49%|█████████████████████████████████▍                                  | 214/435 [03:26<16:12,  4.40s/it]"
     ]
    },
    {
     "name": "stdout",
     "output_type": "stream",
     "text": [
      "Processing בבא קמא\n"
     ]
    },
    {
     "name": "stderr",
     "output_type": "stream",
     "text": [
      "\r",
      "processing:  49%|█████████████████████████████████▌                                  | 215/435 [03:26<11:51,  3.23s/it]"
     ]
    },
    {
     "name": "stdout",
     "output_type": "stream",
     "text": [
      "Processing בבא מציעא\n"
     ]
    },
    {
     "name": "stderr",
     "output_type": "stream",
     "text": [
      "\r",
      "processing:  50%|█████████████████████████████████▊                                  | 216/435 [03:34<16:29,  4.52s/it]"
     ]
    },
    {
     "name": "stdout",
     "output_type": "stream",
     "text": [
      "Processing בבא מציעא\n"
     ]
    },
    {
     "name": "stderr",
     "output_type": "stream",
     "text": [
      "\r",
      "processing:  50%|█████████████████████████████████▉                                  | 217/435 [03:34<12:00,  3.31s/it]"
     ]
    },
    {
     "name": "stdout",
     "output_type": "stream",
     "text": [
      "Processing הוריות\n"
     ]
    },
    {
     "name": "stderr",
     "output_type": "stream",
     "text": [
      "\r",
      "processing:  50%|██████████████████████████████████                                  | 218/435 [03:34<08:42,  2.41s/it]"
     ]
    },
    {
     "name": "stdout",
     "output_type": "stream",
     "text": [
      "Processing הוריות\n",
      "Processing מכות\n"
     ]
    },
    {
     "name": "stderr",
     "output_type": "stream",
     "text": [
      "\r",
      "processing:  51%|██████████████████████████████████▍                                 | 220/435 [03:35<05:03,  1.41s/it]"
     ]
    },
    {
     "name": "stdout",
     "output_type": "stream",
     "text": [
      "Processing מכות\n",
      "Processing סנהדרין\n"
     ]
    },
    {
     "name": "stderr",
     "output_type": "stream",
     "text": [
      "\r",
      "processing:  51%|██████████████████████████████████▋                                 | 222/435 [03:41<07:06,  2.00s/it]"
     ]
    },
    {
     "name": "stdout",
     "output_type": "stream",
     "text": [
      "Processing סנהדרין\n"
     ]
    },
    {
     "name": "stderr",
     "output_type": "stream",
     "text": [
      "\r",
      "processing:  51%|██████████████████████████████████▊                                 | 223/435 [03:42<06:44,  1.91s/it]"
     ]
    },
    {
     "name": "stdout",
     "output_type": "stream",
     "text": [
      "Processing שבועות\n"
     ]
    },
    {
     "name": "stderr",
     "output_type": "stream",
     "text": [
      "\r",
      "processing:  51%|███████████████████████████████████                                 | 224/435 [03:45<07:31,  2.14s/it]"
     ]
    },
    {
     "name": "stdout",
     "output_type": "stream",
     "text": [
      "Processing שבועות\n"
     ]
    },
    {
     "name": "stderr",
     "output_type": "stream",
     "text": [
      "\r",
      "processing:  52%|███████████████████████████████████▏                                | 225/435 [03:46<06:03,  1.73s/it]"
     ]
    },
    {
     "name": "stdout",
     "output_type": "stream",
     "text": [
      "Processing נדה\n"
     ]
    },
    {
     "name": "stderr",
     "output_type": "stream",
     "text": [
      "\r",
      "processing:  52%|███████████████████████████████████▎                                | 226/435 [03:51<09:02,  2.60s/it]"
     ]
    },
    {
     "name": "stdout",
     "output_type": "stream",
     "text": [
      "Processing נדה\n"
     ]
    },
    {
     "name": "stderr",
     "output_type": "stream",
     "text": [
      "\r",
      "processing:  52%|███████████████████████████████████▍                                | 227/435 [03:51<07:16,  2.10s/it]"
     ]
    },
    {
     "name": "stdout",
     "output_type": "stream",
     "text": [
      "Processing ברכות\n"
     ]
    },
    {
     "name": "stderr",
     "output_type": "stream",
     "text": [
      "\r",
      "processing:  52%|███████████████████████████████████▋                                | 228/435 [03:56<09:23,  2.72s/it]"
     ]
    },
    {
     "name": "stdout",
     "output_type": "stream",
     "text": [
      "Processing ברכות\n"
     ]
    },
    {
     "name": "stderr",
     "output_type": "stream",
     "text": [
      "processing:  53%|███████████████████████████████████▉                                | 230/435 [03:57<05:40,  1.66s/it]"
     ]
    },
    {
     "name": "stdout",
     "output_type": "stream",
     "text": [
      "Processing משנה ערכין\n",
      "Processing משנה ערכין\n"
     ]
    },
    {
     "name": "stderr",
     "output_type": "stream",
     "text": [
      "\r",
      "processing:  53%|████████████████████████████████████▎                               | 232/435 [03:57<03:19,  1.02it/s]"
     ]
    },
    {
     "name": "stdout",
     "output_type": "stream",
     "text": [
      "Processing משנה בכורות\n",
      "Processing משנה בכורות\n",
      "Processing משנה חולין\n"
     ]
    },
    {
     "name": "stderr",
     "output_type": "stream",
     "text": [
      "\r",
      "processing:  54%|████████████████████████████████████▌                               | 234/435 [03:58<02:14,  1.50it/s]"
     ]
    },
    {
     "name": "stdout",
     "output_type": "stream",
     "text": [
      "Processing משנה חולין\n",
      "Processing משנה כריתות\n"
     ]
    },
    {
     "name": "stderr",
     "output_type": "stream",
     "text": [
      "\r",
      "processing:  54%|████████████████████████████████████▉                               | 236/435 [03:58<01:34,  2.10it/s]"
     ]
    },
    {
     "name": "stdout",
     "output_type": "stream",
     "text": [
      "Processing משנה כריתות\n",
      "Processing משנה קינים\n",
      "Processing משנה קינים\n",
      "Processing משנה מעילה\n"
     ]
    },
    {
     "name": "stderr",
     "output_type": "stream",
     "text": [
      "\r",
      "processing:  55%|█████████████████████████████████████▌                              | 240/435 [03:58<00:52,  3.69it/s]"
     ]
    },
    {
     "name": "stdout",
     "output_type": "stream",
     "text": [
      "Processing משנה מעילה\n",
      "Processing משנה מנחות\n"
     ]
    },
    {
     "name": "stderr",
     "output_type": "stream",
     "text": [
      "processing:  56%|██████████████████████████████████████▏                             | 244/435 [03:59<00:39,  4.84it/s]"
     ]
    },
    {
     "name": "stdout",
     "output_type": "stream",
     "text": [
      "Processing משנה מנחות\n",
      "Processing משנה מדות\n",
      "Processing משנה מדות\n",
      "Processing משנה תמיד\n"
     ]
    },
    {
     "name": "stderr",
     "output_type": "stream",
     "text": [
      "processing:  57%|██████████████████████████████████████▊                             | 248/435 [03:59<00:29,  6.36it/s]"
     ]
    },
    {
     "name": "stdout",
     "output_type": "stream",
     "text": [
      "Processing משנה תמיד\n",
      "Processing משנה תמורה\n",
      "Processing משנה תמורה\n",
      "Processing משנה זבחים\n"
     ]
    },
    {
     "name": "stderr",
     "output_type": "stream",
     "text": [
      "processing:  58%|███████████████████████████████████████▍                            | 252/435 [04:00<00:28,  6.51it/s]"
     ]
    },
    {
     "name": "stdout",
     "output_type": "stream",
     "text": [
      "Processing משנה זבחים\n",
      "Processing משנה ביצה\n",
      "Processing משנה ביצה\n",
      "Processing משנה חגיגה\n"
     ]
    },
    {
     "name": "stderr",
     "output_type": "stream",
     "text": [
      "\r",
      "processing:  58%|███████████████████████████████████████▋                            | 254/435 [04:00<00:22,  7.95it/s]"
     ]
    },
    {
     "name": "stdout",
     "output_type": "stream",
     "text": [
      "Processing משנה חגיגה\n",
      "Processing משנה עירובין\n"
     ]
    },
    {
     "name": "stderr",
     "output_type": "stream",
     "text": [
      "processing:  59%|████████████████████████████████████████▎                           | 258/435 [04:01<00:22,  8.04it/s]"
     ]
    },
    {
     "name": "stdout",
     "output_type": "stream",
     "text": [
      "Processing משנה עירובין\n",
      "Processing משנה מגילה\n",
      "Processing משנה מגילה\n",
      "Processing משנה מועד קטן\n"
     ]
    },
    {
     "name": "stderr",
     "output_type": "stream",
     "text": [
      "\r",
      "processing:  60%|████████████████████████████████████████▋                           | 260/435 [04:01<00:17,  9.73it/s]"
     ]
    },
    {
     "name": "stdout",
     "output_type": "stream",
     "text": [
      "Processing משנה מועד קטן\n",
      "Processing משנה פסחים\n"
     ]
    },
    {
     "name": "stderr",
     "output_type": "stream",
     "text": [
      "processing:  61%|█████████████████████████████████████████▎                          | 264/435 [04:01<00:19,  8.86it/s]"
     ]
    },
    {
     "name": "stdout",
     "output_type": "stream",
     "text": [
      "Processing משנה פסחים\n",
      "Processing משנה ראש השנה\n",
      "Processing משנה ראש השנה\n",
      "Processing משנה שבת\n"
     ]
    },
    {
     "name": "stderr",
     "output_type": "stream",
     "text": [
      "\r",
      "processing:  61%|█████████████████████████████████████████▌                          | 266/435 [04:02<00:23,  7.08it/s]"
     ]
    },
    {
     "name": "stdout",
     "output_type": "stream",
     "text": [
      "Processing משנה שבת\n",
      "Processing משנה שקלים\n"
     ]
    },
    {
     "name": "stderr",
     "output_type": "stream",
     "text": [
      "processing:  62%|██████████████████████████████████████████▏                         | 270/435 [04:02<00:21,  7.59it/s]"
     ]
    },
    {
     "name": "stdout",
     "output_type": "stream",
     "text": [
      "Processing משנה שקלים\n",
      "Processing משנה סוכה\n"
     ]
    },
    {
     "name": "stderr",
     "output_type": "stream",
     "text": [
      "\r",
      "processing:  63%|██████████████████████████████████████████▌                         | 272/435 [04:02<00:18,  8.79it/s]"
     ]
    },
    {
     "name": "stdout",
     "output_type": "stream",
     "text": [
      "Processing משנה סוכה\n",
      "Processing משנה תענית\n",
      "Processing משנה תענית\n"
     ]
    },
    {
     "name": "stderr",
     "output_type": "stream",
     "text": [
      "\r",
      "processing:  63%|██████████████████████████████████████████▊                         | 274/435 [04:02<00:18,  8.88it/s]"
     ]
    },
    {
     "name": "stdout",
     "output_type": "stream",
     "text": [
      "Processing משנה יומא\n",
      "Processing משנה יומא\n"
     ]
    },
    {
     "name": "stderr",
     "output_type": "stream",
     "text": [
      "\r",
      "processing:  63%|███████████████████████████████████████████▏                        | 276/435 [04:03<00:20,  7.83it/s]"
     ]
    },
    {
     "name": "stdout",
     "output_type": "stream",
     "text": [
      "Processing משנה גיטין\n",
      "Processing משנה גיטין\n",
      "Processing משנה כתובות\n"
     ]
    },
    {
     "name": "stderr",
     "output_type": "stream",
     "text": [
      "processing:  64%|███████████████████████████████████████████▊                        | 280/435 [04:03<00:21,  7.26it/s]"
     ]
    },
    {
     "name": "stdout",
     "output_type": "stream",
     "text": [
      "Processing משנה כתובות\n",
      "Processing משנה קידושין\n",
      "Processing משנה קידושין\n",
      "Processing משנה נזיר\n"
     ]
    },
    {
     "name": "stderr",
     "output_type": "stream",
     "text": [
      "\r",
      "processing:  65%|████████████████████████████████████████████                        | 282/435 [04:04<00:20,  7.35it/s]"
     ]
    },
    {
     "name": "stdout",
     "output_type": "stream",
     "text": [
      "Processing משנה נזיר\n",
      "Processing משנה נדרים\n"
     ]
    },
    {
     "name": "stderr",
     "output_type": "stream",
     "text": [
      "\r",
      "processing:  65%|████████████████████████████████████████████▍                       | 284/435 [04:04<00:23,  6.40it/s]"
     ]
    },
    {
     "name": "stdout",
     "output_type": "stream",
     "text": [
      "Processing משנה נדרים\n",
      "Processing משנה סוטה\n"
     ]
    },
    {
     "name": "stderr",
     "output_type": "stream",
     "text": [
      "\r",
      "processing:  66%|████████████████████████████████████████████▋                       | 286/435 [04:04<00:23,  6.45it/s]"
     ]
    },
    {
     "name": "stdout",
     "output_type": "stream",
     "text": [
      "Processing משנה סוטה\n",
      "Processing משנה יבמות\n"
     ]
    },
    {
     "name": "stderr",
     "output_type": "stream",
     "text": [
      "\r",
      "processing:  66%|█████████████████████████████████████████████                       | 288/435 [04:05<00:28,  5.10it/s]"
     ]
    },
    {
     "name": "stdout",
     "output_type": "stream",
     "text": [
      "Processing משנה יבמות\n",
      "Processing משנה עבודה זרה\n"
     ]
    },
    {
     "name": "stderr",
     "output_type": "stream",
     "text": [
      "\r",
      "processing:  67%|█████████████████████████████████████████████▎                      | 290/435 [04:05<00:25,  5.75it/s]"
     ]
    },
    {
     "name": "stdout",
     "output_type": "stream",
     "text": [
      "Processing משנה עבודה זרה\n",
      "Processing משנה בבא בתרא\n"
     ]
    },
    {
     "name": "stderr",
     "output_type": "stream",
     "text": [
      "\r",
      "processing:  67%|█████████████████████████████████████████████▋                      | 292/435 [04:06<00:25,  5.59it/s]"
     ]
    },
    {
     "name": "stdout",
     "output_type": "stream",
     "text": [
      "Processing משנה בבא בתרא\n",
      "Processing משנה בבא קמא\n"
     ]
    },
    {
     "name": "stderr",
     "output_type": "stream",
     "text": [
      "\r",
      "processing:  68%|█████████████████████████████████████████████▉                      | 294/435 [04:06<00:26,  5.38it/s]"
     ]
    },
    {
     "name": "stdout",
     "output_type": "stream",
     "text": [
      "Processing משנה בבא קמא\n",
      "Processing משנה בבא מציעא\n"
     ]
    },
    {
     "name": "stderr",
     "output_type": "stream",
     "text": [
      "processing:  69%|██████████████████████████████████████████████▌                     | 298/435 [04:07<00:21,  6.27it/s]"
     ]
    },
    {
     "name": "stdout",
     "output_type": "stream",
     "text": [
      "Processing משנה בבא מציעא\n",
      "Processing משנה עדיות\n",
      "Processing משנה עדיות\n"
     ]
    },
    {
     "name": "stderr",
     "output_type": "stream",
     "text": [
      "\r",
      "processing:  69%|██████████████████████████████████████████████▉                     | 300/435 [04:07<00:17,  7.61it/s]"
     ]
    },
    {
     "name": "stdout",
     "output_type": "stream",
     "text": [
      "Processing משנה הוריות\n",
      "Processing משנה הוריות\n",
      "Processing משנה מכות\n"
     ]
    },
    {
     "name": "stderr",
     "output_type": "stream",
     "text": [
      "\r",
      "processing:  69%|███████████████████████████████████████████████▏                    | 302/435 [04:07<00:15,  8.48it/s]"
     ]
    },
    {
     "name": "stdout",
     "output_type": "stream",
     "text": [
      "Processing משנה מכות\n",
      "Processing משנה סנהדרין\n"
     ]
    },
    {
     "name": "stderr",
     "output_type": "stream",
     "text": [
      "\r",
      "processing:  70%|███████████████████████████████████████████████▌                    | 304/435 [04:07<00:18,  7.17it/s]"
     ]
    },
    {
     "name": "stdout",
     "output_type": "stream",
     "text": [
      "Processing משנה סנהדרין\n",
      "Processing משנה שבועות\n"
     ]
    },
    {
     "name": "stderr",
     "output_type": "stream",
     "text": [
      "processing:  71%|████████████████████████████████████████████████▏                   | 308/435 [04:08<00:15,  8.38it/s]"
     ]
    },
    {
     "name": "stdout",
     "output_type": "stream",
     "text": [
      "Processing משנה שבועות\n",
      "Processing משנה אבות\n",
      "Processing משנה אבות\n"
     ]
    },
    {
     "name": "stderr",
     "output_type": "stream",
     "text": [
      "processing:  71%|████████████████████████████████████████████████▌                   | 311/435 [04:08<00:15,  8.21it/s]"
     ]
    },
    {
     "name": "stdout",
     "output_type": "stream",
     "text": [
      "Processing משנה כלים\n",
      "Processing משנה כלים\n"
     ]
    },
    {
     "name": "stderr",
     "output_type": "stream",
     "text": [
      "\r",
      "processing:  72%|█████████████████████████████████████████████████                   | 314/435 [04:08<00:11, 10.80it/s]"
     ]
    },
    {
     "name": "stdout",
     "output_type": "stream",
     "text": [
      "Processing משנה מכשירין\n",
      "Processing משנה מכשירין\n",
      "Processing משנה מקואות\n",
      "Processing משנה מקואות\n",
      "Processing משנה נגעים\n"
     ]
    },
    {
     "name": "stderr",
     "output_type": "stream",
     "text": [
      "\r",
      "processing:  73%|█████████████████████████████████████████████████▍                  | 316/435 [04:08<00:09, 12.16it/s]"
     ]
    },
    {
     "name": "stdout",
     "output_type": "stream",
     "text": [
      "Processing משנה נגעים\n",
      "Processing משנה נדה\n"
     ]
    },
    {
     "name": "stderr",
     "output_type": "stream",
     "text": [
      "processing:  74%|██████████████████████████████████████████████████                  | 320/435 [04:09<00:11,  9.92it/s]"
     ]
    },
    {
     "name": "stdout",
     "output_type": "stream",
     "text": [
      "Processing משנה נדה\n",
      "Processing משנה אהלות\n",
      "Processing משנה אהלות\n"
     ]
    },
    {
     "name": "stderr",
     "output_type": "stream",
     "text": [
      "processing:  75%|██████████████████████████████████████████████████▊                 | 325/435 [04:09<00:08, 13.67it/s]"
     ]
    },
    {
     "name": "stdout",
     "output_type": "stream",
     "text": [
      "Processing משנה עוקצים\n",
      "Processing משנה עוקצים\n",
      "Processing משנה פרה\n",
      "Processing משנה פרה\n",
      "Processing משנה טהרות\n"
     ]
    },
    {
     "name": "stderr",
     "output_type": "stream",
     "text": [
      "processing:  76%|███████████████████████████████████████████████████▋                | 331/435 [04:09<00:05, 19.12it/s]"
     ]
    },
    {
     "name": "stdout",
     "output_type": "stream",
     "text": [
      "Processing משנה טהרות\n",
      "Processing משנה טבול יום\n",
      "Processing משנה טבול יום\n",
      "Processing משנה ידים\n",
      "Processing משנה ידים\n",
      "Processing משנה זבים\n",
      "Processing משנה זבים\n"
     ]
    },
    {
     "name": "stderr",
     "output_type": "stream",
     "text": [
      "\r",
      "processing:  77%|████████████████████████████████████████████████████▏               | 334/435 [04:10<00:06, 16.83it/s]"
     ]
    },
    {
     "name": "stdout",
     "output_type": "stream",
     "text": [
      "Processing משנה ברכות\n",
      "Processing משנה ברכות\n",
      "Processing משנה ביכורים\n",
      "Processing משנה ביכורים\n"
     ]
    },
    {
     "name": "stderr",
     "output_type": "stream",
     "text": [
      "processing:  79%|█████████████████████████████████████████████████████▍              | 342/435 [04:10<00:04, 21.58it/s]"
     ]
    },
    {
     "name": "stdout",
     "output_type": "stream",
     "text": [
      "Processing משנה חלה\n",
      "Processing משנה חלה\n",
      "Processing משנה דמאי\n",
      "Processing משנה דמאי\n",
      "Processing משנה כלאים\n",
      "Processing משנה כלאים\n"
     ]
    },
    {
     "name": "stderr",
     "output_type": "stream",
     "text": [
      "processing:  80%|██████████████████████████████████████████████████████▍             | 348/435 [04:10<00:03, 23.82it/s]"
     ]
    },
    {
     "name": "stdout",
     "output_type": "stream",
     "text": [
      "Processing משנה מעשר שני\n",
      "Processing משנה מעשר שני\n",
      "Processing משנה מעשרות\n",
      "Processing משנה מעשרות\n",
      "Processing משנה ערלה\n",
      "Processing משנה ערלה\n"
     ]
    },
    {
     "name": "stderr",
     "output_type": "stream",
     "text": [
      "\r",
      "processing:  81%|██████████████████████████████████████████████████████▊             | 351/435 [04:10<00:03, 23.81it/s]"
     ]
    },
    {
     "name": "stdout",
     "output_type": "stream",
     "text": [
      "Processing משנה פאה\n",
      "Processing משנה פאה\n",
      "Processing משנה שביעית\n",
      "Processing משנה שביעית\n"
     ]
    },
    {
     "name": "stderr",
     "output_type": "stream",
     "text": [
      "\r",
      "processing:  81%|███████████████████████████████████████████████████████▎            | 354/435 [04:10<00:04, 20.11it/s]"
     ]
    },
    {
     "name": "stdout",
     "output_type": "stream",
     "text": [
      "Processing משנה תרומות\n",
      "Processing משנה תרומות\n",
      "⚠️  no schema row for Terumot\n",
      "Processing אגדת בראשית\n"
     ]
    },
    {
     "name": "stderr",
     "output_type": "stream",
     "text": [
      "processing:  83%|████████████████████████████████████████████████████████            | 359/435 [04:11<00:05, 14.39it/s]"
     ]
    },
    {
     "name": "stdout",
     "output_type": "stream",
     "text": [
      "Processing אגדת בראשית\n",
      "Processing בראשית רבתי\n",
      "Processing בראשית רבתי\n"
     ]
    },
    {
     "name": "stderr",
     "output_type": "stream",
     "text": [
      "\r",
      "processing:  83%|████████████████████████████████████████████████████████▍           | 361/435 [04:12<00:08,  8.43it/s]"
     ]
    },
    {
     "name": "stdout",
     "output_type": "stream",
     "text": [
      "Processing עין יעקב\n",
      "Processing עין יעקב\n",
      "Processing עין יעקב (מאת שמואל צבי גליק)\n"
     ]
    },
    {
     "name": "stderr",
     "output_type": "stream",
     "text": [
      "\r",
      "processing:  83%|████████████████████████████████████████████████████████▋           | 363/435 [04:14<00:30,  2.38it/s]"
     ]
    },
    {
     "name": "stdout",
     "output_type": "stream",
     "text": [
      "Processing עין יעקב (מאת שמואל צבי גליק)\n"
     ]
    },
    {
     "name": "stderr",
     "output_type": "stream",
     "text": [
      "\r",
      "processing:  84%|████████████████████████████████████████████████████████▉           | 364/435 [04:16<00:41,  1.72it/s]"
     ]
    },
    {
     "name": "stdout",
     "output_type": "stream",
     "text": [
      "Processing אגדות היהודים\n"
     ]
    },
    {
     "name": "stderr",
     "output_type": "stream",
     "text": [
      "processing:  84%|█████████████████████████████████████████████████████████           | 365/435 [04:17<00:50,  1.39it/s]C:\\Users\\yotam\\anaconda3\\lib\\site-packages\\bs4\\__init__.py:435: MarkupResemblesLocatorWarning: The input looks more like a filename than markup. You may want to open this file and pass the filehandle into Beautiful Soup.\n",
      "  warnings.warn(\n"
     ]
    },
    {
     "name": "stdout",
     "output_type": "stream",
     "text": [
      "Processing מדרש אגדה\n",
      "Processing מדרש אגדה\n"
     ]
    },
    {
     "name": "stderr",
     "output_type": "stream",
     "text": [
      "\r",
      "processing:  84%|█████████████████████████████████████████████████████████▎          | 367/435 [04:19<00:55,  1.21it/s]"
     ]
    },
    {
     "name": "stdout",
     "output_type": "stream",
     "text": [
      "Processing מדרש לקח טוב\n",
      "Processing מדרש לקח טוב\n"
     ]
    },
    {
     "name": "stderr",
     "output_type": "stream",
     "text": [
      "processing:  85%|█████████████████████████████████████████████████████████▉          | 371/435 [04:24<00:59,  1.08it/s]"
     ]
    },
    {
     "name": "stdout",
     "output_type": "stream",
     "text": [
      "Processing מדרש משלי\n",
      "Processing מדרש משלי\n",
      "Processing במדבר רבה\n"
     ]
    },
    {
     "name": "stderr",
     "output_type": "stream",
     "text": [
      "\r",
      "processing:  86%|██████████████████████████████████████████████████████████▏         | 372/435 [04:27<01:18,  1.24s/it]"
     ]
    },
    {
     "name": "stdout",
     "output_type": "stream",
     "text": [
      "Processing במדבר רבה\n"
     ]
    },
    {
     "name": "stderr",
     "output_type": "stream",
     "text": [
      "\r",
      "processing:  86%|██████████████████████████████████████████████████████████▎         | 373/435 [04:28<01:21,  1.32s/it]"
     ]
    },
    {
     "name": "stdout",
     "output_type": "stream",
     "text": [
      "Processing בראשית רבה\n"
     ]
    },
    {
     "name": "stderr",
     "output_type": "stream",
     "text": [
      "\r",
      "processing:  86%|██████████████████████████████████████████████████████████▍         | 374/435 [04:32<02:00,  1.98s/it]"
     ]
    },
    {
     "name": "stdout",
     "output_type": "stream",
     "text": [
      "Processing בראשית רבה\n"
     ]
    },
    {
     "name": "stderr",
     "output_type": "stream",
     "text": [
      "\r",
      "processing:  86%|██████████████████████████████████████████████████████████▌         | 375/435 [04:34<01:55,  1.93s/it]"
     ]
    },
    {
     "name": "stdout",
     "output_type": "stream",
     "text": [
      "Processing דברים רבה\n"
     ]
    },
    {
     "name": "stderr",
     "output_type": "stream",
     "text": [
      "processing:  87%|██████████████████████████████████████████████████████████▉         | 377/435 [04:35<01:12,  1.25s/it]"
     ]
    },
    {
     "name": "stdout",
     "output_type": "stream",
     "text": [
      "Processing דברים רבה\n",
      "Processing איכה רבה\n"
     ]
    },
    {
     "name": "stderr",
     "output_type": "stream",
     "text": [
      "\r",
      "processing:  87%|███████████████████████████████████████████████████████████         | 378/435 [04:36<01:05,  1.16s/it]"
     ]
    },
    {
     "name": "stdout",
     "output_type": "stream",
     "text": [
      "Processing איכה רבה\n"
     ]
    },
    {
     "name": "stderr",
     "output_type": "stream",
     "text": [
      "\r",
      "processing:  87%|███████████████████████████████████████████████████████████▏        | 379/435 [04:36<00:52,  1.06it/s]"
     ]
    },
    {
     "name": "stdout",
     "output_type": "stream",
     "text": [
      "Processing אסתר רבה\n"
     ]
    },
    {
     "name": "stderr",
     "output_type": "stream",
     "text": [
      "processing:  88%|███████████████████████████████████████████████████████████▌        | 381/435 [04:37<00:34,  1.57it/s]"
     ]
    },
    {
     "name": "stdout",
     "output_type": "stream",
     "text": [
      "Processing אסתר רבה\n",
      "Processing קוהלת רבה\n"
     ]
    },
    {
     "name": "stderr",
     "output_type": "stream",
     "text": [
      "\r",
      "processing:  88%|███████████████████████████████████████████████████████████▋        | 382/435 [04:38<00:41,  1.28it/s]"
     ]
    },
    {
     "name": "stdout",
     "output_type": "stream",
     "text": [
      "Processing קוהלת רבה\n"
     ]
    },
    {
     "name": "stderr",
     "output_type": "stream",
     "text": [
      "processing:  88%|████████████████████████████████████████████████████████████        | 384/435 [04:39<00:30,  1.65it/s]"
     ]
    },
    {
     "name": "stdout",
     "output_type": "stream",
     "text": [
      "Processing רות רבה\n"
     ]
    },
    {
     "name": "stderr",
     "output_type": "stream",
     "text": [
      "\r",
      "processing:  89%|████████████████████████████████████████████████████████████▏       | 385/435 [04:39<00:23,  2.12it/s]"
     ]
    },
    {
     "name": "stdout",
     "output_type": "stream",
     "text": [
      "Processing רות רבה\n",
      "Processing רות רבה (לרנר)\n",
      "Processing רות רבה (לרנר)\n"
     ]
    },
    {
     "name": "stderr",
     "output_type": "stream",
     "text": [
      "\r",
      "processing:  89%|████████████████████████████████████████████████████████████▍       | 387/435 [04:39<00:13,  3.48it/s]"
     ]
    },
    {
     "name": "stdout",
     "output_type": "stream",
     "text": [
      "Processing שמות רבה\n"
     ]
    },
    {
     "name": "stderr",
     "output_type": "stream",
     "text": [
      "\r",
      "processing:  89%|████████████████████████████████████████████████████████████▋       | 388/435 [04:41<00:31,  1.51it/s]"
     ]
    },
    {
     "name": "stdout",
     "output_type": "stream",
     "text": [
      "Processing שמות רבה\n"
     ]
    },
    {
     "name": "stderr",
     "output_type": "stream",
     "text": [
      "\r",
      "processing:  89%|████████████████████████████████████████████████████████████▊       | 389/435 [04:42<00:35,  1.31it/s]"
     ]
    },
    {
     "name": "stdout",
     "output_type": "stream",
     "text": [
      "Processing שיר השירים רבה\n"
     ]
    },
    {
     "name": "stderr",
     "output_type": "stream",
     "text": [
      "\r",
      "processing:  90%|████████████████████████████████████████████████████████████▉       | 390/435 [04:44<00:41,  1.09it/s]"
     ]
    },
    {
     "name": "stdout",
     "output_type": "stream",
     "text": [
      "Processing שיר השירים רבה\n"
     ]
    },
    {
     "name": "stderr",
     "output_type": "stream",
     "text": [
      "\r",
      "processing:  90%|█████████████████████████████████████████████████████████████       | 391/435 [04:44<00:36,  1.20it/s]"
     ]
    },
    {
     "name": "stdout",
     "output_type": "stream",
     "text": [
      "Processing ויקרא רבה\n"
     ]
    },
    {
     "name": "stderr",
     "output_type": "stream",
     "text": [
      "\r",
      "processing:  90%|█████████████████████████████████████████████████████████████▎      | 392/435 [04:46<00:43,  1.02s/it]"
     ]
    },
    {
     "name": "stdout",
     "output_type": "stream",
     "text": [
      "Processing ויקרא רבה\n"
     ]
    },
    {
     "name": "stderr",
     "output_type": "stream",
     "text": [
      "\r",
      "processing:  90%|█████████████████████████████████████████████████████████████▍      | 393/435 [04:46<00:40,  1.05it/s]"
     ]
    },
    {
     "name": "stdout",
     "output_type": "stream",
     "text": [
      "Processing מדרש שכל טוב\n",
      "Processing מדרש שכל טוב\n"
     ]
    },
    {
     "name": "stderr",
     "output_type": "stream",
     "text": [
      "processing:  91%|█████████████████████████████████████████████████████████████▉      | 396/435 [04:49<00:33,  1.16it/s]"
     ]
    },
    {
     "name": "stdout",
     "output_type": "stream",
     "text": [
      "Processing מדרש שמואל\n",
      "Processing מדרש תנחומא\n"
     ]
    },
    {
     "name": "stderr",
     "output_type": "stream",
     "text": [
      "\r",
      "processing:  91%|██████████████████████████████████████████████████████████████      | 397/435 [04:52<00:53,  1.41s/it]"
     ]
    },
    {
     "name": "stdout",
     "output_type": "stream",
     "text": [
      "Processing מדרש תנחומא\n"
     ]
    },
    {
     "name": "stderr",
     "output_type": "stream",
     "text": [
      "\r",
      "processing:  91%|██████████████████████████████████████████████████████████████▏     | 398/435 [04:55<01:08,  1.84s/it]"
     ]
    },
    {
     "name": "stdout",
     "output_type": "stream",
     "text": [
      "Processing תנחומא בובר\n"
     ]
    },
    {
     "name": "stderr",
     "output_type": "stream",
     "text": [
      "\r",
      "processing:  92%|██████████████████████████████████████████████████████████████▎     | 399/435 [05:01<01:44,  2.89s/it]"
     ]
    },
    {
     "name": "stdout",
     "output_type": "stream",
     "text": [
      "Processing תנחומא בובר\n"
     ]
    },
    {
     "name": "stderr",
     "output_type": "stream",
     "text": [
      "\r",
      "processing:  92%|██████████████████████████████████████████████████████████████▌     | 400/435 [05:02<01:28,  2.53s/it]"
     ]
    },
    {
     "name": "stdout",
     "output_type": "stream",
     "text": [
      "Processing מדרש תהילים\n"
     ]
    },
    {
     "name": "stderr",
     "output_type": "stream",
     "text": [
      "\r",
      "processing:  92%|██████████████████████████████████████████████████████████████▋     | 401/435 [05:03<01:05,  1.93s/it]"
     ]
    },
    {
     "name": "stdout",
     "output_type": "stream",
     "text": [
      "Processing מדרש תהילים\n"
     ]
    },
    {
     "name": "stderr",
     "output_type": "stream",
     "text": [
      "processing:  93%|██████████████████████████████████████████████████████████████▉     | 403/435 [05:04<00:36,  1.14s/it]"
     ]
    },
    {
     "name": "stdout",
     "output_type": "stream",
     "text": [
      "Processing מדרש ילמדנו מתוך ילקוט תלמוד תורה\n",
      "Processing משנת רבי אליעזר\n",
      "Processing משנת רבי אליעזר\n"
     ]
    },
    {
     "name": "stderr",
     "output_type": "stream",
     "text": [
      "\r",
      "processing:  93%|███████████████████████████████████████████████████████████████▎    | 405/435 [05:04<00:21,  1.38it/s]"
     ]
    },
    {
     "name": "stdout",
     "output_type": "stream",
     "text": [
      "Processing אוצר מדרשים\n"
     ]
    },
    {
     "name": "stderr",
     "output_type": "stream",
     "text": [
      "\r",
      "processing:  93%|███████████████████████████████████████████████████████████████▍    | 406/435 [05:04<00:17,  1.65it/s]"
     ]
    },
    {
     "name": "stdout",
     "output_type": "stream",
     "text": [
      "Processing אוצר מדרשים\n"
     ]
    },
    {
     "name": "stderr",
     "output_type": "stream",
     "text": [
      "\r",
      "processing:  94%|███████████████████████████████████████████████████████████████▌    | 407/435 [05:07<00:35,  1.27s/it]"
     ]
    },
    {
     "name": "stdout",
     "output_type": "stream",
     "text": [
      "Processing פסיקתא דרב כהנא\n",
      "Processing פסיקתא דרב כהנא\n"
     ]
    },
    {
     "name": "stderr",
     "output_type": "stream",
     "text": [
      "\r",
      "processing:  94%|███████████████████████████████████████████████████████████████▉    | 409/435 [05:08<00:20,  1.29it/s]"
     ]
    },
    {
     "name": "stdout",
     "output_type": "stream",
     "text": [
      "Processing פסיקתא רבתי\n"
     ]
    },
    {
     "name": "stderr",
     "output_type": "stream",
     "text": [
      "\r",
      "processing:  94%|████████████████████████████████████████████████████████████████▏   | 411/435 [05:08<00:13,  1.74it/s]"
     ]
    },
    {
     "name": "stdout",
     "output_type": "stream",
     "text": [
      "Processing פסיקתא רבתי\n",
      "Processing פרקי דרבי אליעזר\n"
     ]
    },
    {
     "name": "stderr",
     "output_type": "stream",
     "text": [
      "processing:  95%|████████████████████████████████████████████████████████████████▌   | 413/435 [05:09<00:11,  1.98it/s]"
     ]
    },
    {
     "name": "stdout",
     "output_type": "stream",
     "text": [
      "Processing פרקי דרבי אליעזר\n"
     ]
    },
    {
     "name": "stderr",
     "output_type": "stream",
     "text": [
      "\r",
      "processing:  95%|████████████████████████████████████████████████████████████████▊   | 415/435 [05:09<00:06,  3.02it/s]"
     ]
    },
    {
     "name": "stdout",
     "output_type": "stream",
     "text": [
      "Processing סדר עולם רבה\n",
      "Processing סדר עולם רבה\n",
      "Processing סדר עולם זוטא\n",
      "Processing סדר עולם זוטא\n",
      "Processing ספר הישר (מדרש)\n"
     ]
    },
    {
     "name": "stderr",
     "output_type": "stream",
     "text": [
      "processing:  96%|█████████████████████████████████████████████████████████████████▍  | 419/435 [05:10<00:05,  3.06it/s]"
     ]
    },
    {
     "name": "stdout",
     "output_type": "stream",
     "text": [
      "Processing ספר הישר (מדרש)\n",
      "⚠️  no schema row for Tanna Debei Eliyahu Rabbah\n",
      "⚠️  no schema row for Tanna Debei Eliyahu Rabbah\n",
      "⚠️  no schema row for Tanna debei Eliyahu Zuta\n",
      "⚠️  no schema row for Tanna debei Eliyahu Zuta\n",
      "Processing מכילתא דרבי שמעון בן יוחאי\n",
      "Processing מכילתא דרבי שמעון בן יוחאי\n"
     ]
    },
    {
     "name": "stderr",
     "output_type": "stream",
     "text": [
      "\r",
      "processing:  98%|██████████████████████████████████████████████████████████████████▍ | 425/435 [05:11<00:01,  6.27it/s]"
     ]
    },
    {
     "name": "stdout",
     "output_type": "stream",
     "text": [
      "Processing מכילתא דרבי ישמעאל\n"
     ]
    },
    {
     "name": "stderr",
     "output_type": "stream",
     "text": [
      "\r",
      "processing:  98%|██████████████████████████████████████████████████████████████████▌ | 426/435 [05:11<00:01,  4.56it/s]"
     ]
    },
    {
     "name": "stdout",
     "output_type": "stream",
     "text": [
      "Processing מכילתא דרבי ישמעאל\n"
     ]
    },
    {
     "name": "stderr",
     "output_type": "stream",
     "text": [
      "\r",
      "processing:  98%|██████████████████████████████████████████████████████████████████▋ | 427/435 [05:12<00:02,  2.88it/s]"
     ]
    },
    {
     "name": "stdout",
     "output_type": "stream",
     "text": [
      "Processing ספרא\n"
     ]
    },
    {
     "name": "stderr",
     "output_type": "stream",
     "text": [
      "\r",
      "processing:  98%|██████████████████████████████████████████████████████████████████▉ | 428/435 [05:14<00:03,  1.96it/s]"
     ]
    },
    {
     "name": "stdout",
     "output_type": "stream",
     "text": [
      "Processing ספרא\n"
     ]
    },
    {
     "name": "stderr",
     "output_type": "stream",
     "text": [
      "processing:  99%|███████████████████████████████████████████████████████████████████▏| 430/435 [05:15<00:02,  1.83it/s]"
     ]
    },
    {
     "name": "stdout",
     "output_type": "stream",
     "text": [
      "Processing ספרי במדבר\n"
     ]
    },
    {
     "name": "stderr",
     "output_type": "stream",
     "text": [
      "\r",
      "processing:  99%|███████████████████████████████████████████████████████████████████▎| 431/435 [05:15<00:01,  2.18it/s]"
     ]
    },
    {
     "name": "stdout",
     "output_type": "stream",
     "text": [
      "Processing ספרי במדבר\n",
      "Processing ספרי דברים\n"
     ]
    },
    {
     "name": "stderr",
     "output_type": "stream",
     "text": [
      "\r",
      "processing:  99%|███████████████████████████████████████████████████████████████████▌| 432/435 [05:16<00:01,  1.61it/s]"
     ]
    },
    {
     "name": "stdout",
     "output_type": "stream",
     "text": [
      "Processing ספרי דברים\n"
     ]
    },
    {
     "name": "stderr",
     "output_type": "stream",
     "text": [
      "\r",
      "processing: 100%|███████████████████████████████████████████████████████████████████▋| 433/435 [05:17<00:01,  1.50it/s]"
     ]
    },
    {
     "name": "stdout",
     "output_type": "stream",
     "text": [
      "Processing ספרי זוטא\n",
      "Processing ספרי זוטא\n"
     ]
    },
    {
     "name": "stderr",
     "output_type": "stream",
     "text": [
      "processing: 100%|████████████████████████████████████████████████████████████████████| 435/435 [05:17<00:00,  1.37it/s]"
     ]
    },
    {
     "name": "stdout",
     "output_type": "stream",
     "text": [
      "✅ finished – file saved: Rashi.jsonl\n"
     ]
    },
    {
     "name": "stderr",
     "output_type": "stream",
     "text": [
      "\n"
     ]
    }
   ],
   "source": [
    "with open(JSONL_OUT, \"w\", encoding=\"utf‑8\") as fout:\n",
    "    for jp in tqdm(json_paths, desc=\"processing\"):\n",
    "        book_en = pathlib.Path(jp).parent.parent.name  # e.g. 'Rashi on Genesis'\n",
    "        m = meta.get(book_en)\n",
    "        if m is None:\n",
    "            print(\"⚠️  no schema row for\", book_en)\n",
    "            continue\n",
    "\n",
    "        data = json.load(open(jp, encoding=\"utf‑8\"))[\"text\"]\n",
    "        leaves: List[Tuple[List[int], str]] = []\n",
    "        json_leaves(data, [], leaves)\n",
    "\n",
    "        labels_he = m[\"labels_he\"]\n",
    "        en2he = m[\"en2he\"]\n",
    "        \n",
    "        \n",
    "        print(f\"Processing {m['book_he']}\")\n",
    "\n",
    "        for path, raw in leaves:\n",
    "            clean = strip_html(raw)\n",
    "            if not clean:\n",
    "                continue\n",
    "\n",
    "            parts = [m[\"book_he\"]]\n",
    "\n",
    "            for lvl_idx, idx_val in enumerate(path, 1):\n",
    "                if lvl_idx > len(labels_he):\n",
    "                    break\n",
    "\n",
    "                try:\n",
    "                    # ▸ index מספרי רגיל\n",
    "                    n = int(idx_val)\n",
    "                    parts.append(f\"{labels_he[lvl_idx-1]} {heb_num(n+1)}\")\n",
    "\n",
    "                except (ValueError, TypeError):\n",
    "                    \n",
    "                    key_en = (\n",
    "                        idx_val.split(\"_\", 1)[1] if isinstance(idx_val, str) and \"_\" in idx_val\n",
    "                        else str(idx_val)\n",
    "                    ).strip().lower()\n",
    "\n",
    "                    parts.append(en2he.get(key_en, key_en))\n",
    "\n",
    "            source = \", \".join(parts)\n",
    "            merged = f\"\\\"{clean}\\\" ({source})\"\n",
    "            fout.write(json.dumps({\"text\": merged}, ensure_ascii=False) + \"\\n\")\n",
    "\n",
    "print(\"✅ finished – file saved:\", JSONL_OUT)"
   ]
  },
  {
   "cell_type": "code",
   "execution_count": 13,
   "id": "2f5d721e",
   "metadata": {},
   "outputs": [
    {
     "name": "stdout",
     "output_type": "stream",
     "text": [
      "[{'text': '\"אמון פדגוג. כמא דתימא כאשר ישא האומן את היונק ומתרגמינן בירושלמי כמה דסבל פדגוגא ית ינוקא:\" (רש\"י על '\n",
      "          'בראשית רבה, פרק א׳, פסקה א׳, פירוש א׳)'}]\n"
     ]
    }
   ],
   "source": [
    "import itertools, json, pprint\n",
    "with open(JSONL_OUT, encoding=\"utf‑8\") as f:\n",
    "    sample = [json.loads(l) for l in itertools.islice(f, 1)]\n",
    "pprint.pp(sample, width=120)"
   ]
  },
  {
   "cell_type": "code",
   "execution_count": 14,
   "id": "79106d14",
   "metadata": {},
   "outputs": [],
   "source": [
    "with open(JSONL_OUT, encoding=\"utf‑8-sig\") as f:\n",
    "    data = [json.loads(l) for l in f]"
   ]
  },
  {
   "cell_type": "code",
   "execution_count": 16,
   "id": "c4d4f587",
   "metadata": {},
   "outputs": [
    {
     "data": {
      "text/plain": [
       "439486"
      ]
     },
     "execution_count": 16,
     "metadata": {},
     "output_type": "execute_result"
    }
   ],
   "source": [
    "len(data)"
   ]
  },
  {
   "cell_type": "code",
   "execution_count": 17,
   "id": "cbf846e9",
   "metadata": {},
   "outputs": [
    {
     "data": {
      "text/plain": [
       "[{'text': '\"אמון פדגוג. כמא דתימא כאשר ישא האומן את היונק ומתרגמינן בירושלמי כמה דסבל פדגוגא ית ינוקא:\" (רש\"י על בראשית רבה, פרק א׳, פסקה א׳, פירוש א׳)'},\n",
       " {'text': '\"אמון מוצנע. כמה דתימא ויהי אומן את הדסה (אסתר ב ז\\') וכן הפתרון בהשמע דבר המלך ודתו להקבץ את כל נערה בתולה והיה מרדכי מצניע את אסתר שלא תהא מחוללת לאותו רשע ומלאך בא ומגלה אותה הוא שיסד הקליר (ביוצר לפורים) את אסתר גל ממסתור לגאול ממה שהיה מרדכי מסתירה:\" (רש\"י על בראשית רבה, פרק א׳, פסקה א׳, פירוש ב׳)'}]"
      ]
     },
     "execution_count": 17,
     "metadata": {},
     "output_type": "execute_result"
    }
   ],
   "source": [
    "data[0:2]"
   ]
  },
  {
   "cell_type": "code",
   "execution_count": null,
   "id": "e2242aa1",
   "metadata": {},
   "outputs": [],
   "source": []
  }
 ],
 "metadata": {
  "kernelspec": {
   "display_name": "Python 3 (ipykernel)",
   "language": "python",
   "name": "python3"
  },
  "language_info": {
   "codemirror_mode": {
    "name": "ipython",
    "version": 3
   },
   "file_extension": ".py",
   "mimetype": "text/x-python",
   "name": "python",
   "nbconvert_exporter": "python",
   "pygments_lexer": "ipython3",
   "version": "3.9.13"
  }
 },
 "nbformat": 4,
 "nbformat_minor": 5
}
